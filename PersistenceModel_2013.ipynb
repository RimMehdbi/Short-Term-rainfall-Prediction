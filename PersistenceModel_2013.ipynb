{
  "nbformat": 4,
  "nbformat_minor": 0,
  "metadata": {
    "colab": {
      "name": " PersistenceModel_2013.ipynb",
      "provenance": []
    },
    "kernelspec": {
      "name": "python3",
      "display_name": "Python 3"
    },
    "language_info": {
      "name": "python"
    }
  },
  "cells": [
    {
      "cell_type": "markdown",
      "metadata": {
        "id": "jA-vLTuvSNNA"
      },
      "source": [
        "# Persistence model #\n"
      ]
    },
    {
      "cell_type": "code",
      "metadata": {
        "colab": {
          "base_uri": "https://localhost:8080/"
        },
        "id": "m13XzG_OSK8D",
        "outputId": "6a6f0353-6fc8-489f-aeaa-3060c43d856b"
      },
      "source": [
        "#Importing libraries\n",
        "from pandas import read_csv\n",
        "from pandas import datetime\n",
        "from matplotlib import pyplot\n",
        "from sklearn.metrics  import mean_squared_error, r2_score, mean_absolute_error, max_error\n",
        "import pandas as pd\n",
        "import numpy as np\n",
        "%matplotlib inline"
      ],
      "execution_count": null,
      "outputs": [
        {
          "output_type": "stream",
          "text": [
            "/usr/local/lib/python3.7/dist-packages/ipykernel_launcher.py:3: FutureWarning: The pandas.datetime class is deprecated and will be removed from pandas in a future version. Import from datetime module instead.\n",
            "  This is separate from the ipykernel package so we can avoid doing imports until\n"
          ],
          "name": "stderr"
        }
      ]
    },
    {
      "cell_type": "markdown",
      "metadata": {
        "id": "JbiSfxYvhnwR"
      },
      "source": [
        "Load data"
      ]
    },
    {
      "cell_type": "code",
      "metadata": {
        "colab": {
          "base_uri": "https://localhost:8080/"
        },
        "id": "40og91xl64IS",
        "outputId": "89bb87d7-50ce-4bf1-d272-bd8b30071913"
      },
      "source": [
        "from google.colab import drive\n",
        "drive.mount('/content/drive')"
      ],
      "execution_count": null,
      "outputs": [
        {
          "output_type": "stream",
          "text": [
            "Mounted at /content/drive\n"
          ],
          "name": "stdout"
        }
      ]
    },
    {
      "cell_type": "code",
      "metadata": {
        "id": "DZ9kBfSuSaqr"
      },
      "source": [
        "rainfall_df = read_csv('/content/drive/MyDrive/Rainfallprediction/2013/Percip2013UHL.csv',  header=0,  index_col=0)"
      ],
      "execution_count": null,
      "outputs": []
    },
    {
      "cell_type": "code",
      "metadata": {
        "id": "u1fhlWMfSv54"
      },
      "source": [
        "rain_values = rainfall_df[['Time_Tag' , 'MeasuredValue']]"
      ],
      "execution_count": null,
      "outputs": []
    },
    {
      "cell_type": "markdown",
      "metadata": {
        "id": "Ya4mxCknUMXE"
      },
      "source": [
        "Exploratory data analysis"
      ]
    },
    {
      "cell_type": "code",
      "metadata": {
        "colab": {
          "base_uri": "https://localhost:8080/",
          "height": 297
        },
        "id": "E2HkTU90S8eT",
        "outputId": "63452ccc-5100-4471-8e77-b5aa8fdc87af"
      },
      "source": [
        "rain_values.describe()"
      ],
      "execution_count": null,
      "outputs": [
        {
          "output_type": "execute_result",
          "data": {
            "text/html": [
              "<div>\n",
              "<style scoped>\n",
              "    .dataframe tbody tr th:only-of-type {\n",
              "        vertical-align: middle;\n",
              "    }\n",
              "\n",
              "    .dataframe tbody tr th {\n",
              "        vertical-align: top;\n",
              "    }\n",
              "\n",
              "    .dataframe thead th {\n",
              "        text-align: right;\n",
              "    }\n",
              "</style>\n",
              "<table border=\"1\" class=\"dataframe\">\n",
              "  <thead>\n",
              "    <tr style=\"text-align: right;\">\n",
              "      <th></th>\n",
              "      <th>MeasuredValue</th>\n",
              "    </tr>\n",
              "  </thead>\n",
              "  <tbody>\n",
              "    <tr>\n",
              "      <th>count</th>\n",
              "      <td>22848.000000</td>\n",
              "    </tr>\n",
              "    <tr>\n",
              "      <th>mean</th>\n",
              "      <td>0.035373</td>\n",
              "    </tr>\n",
              "    <tr>\n",
              "      <th>std</th>\n",
              "      <td>0.338422</td>\n",
              "    </tr>\n",
              "    <tr>\n",
              "      <th>min</th>\n",
              "      <td>0.000000</td>\n",
              "    </tr>\n",
              "    <tr>\n",
              "      <th>25%</th>\n",
              "      <td>0.000000</td>\n",
              "    </tr>\n",
              "    <tr>\n",
              "      <th>50%</th>\n",
              "      <td>0.000000</td>\n",
              "    </tr>\n",
              "    <tr>\n",
              "      <th>75%</th>\n",
              "      <td>0.000000</td>\n",
              "    </tr>\n",
              "    <tr>\n",
              "      <th>max</th>\n",
              "      <td>17.600000</td>\n",
              "    </tr>\n",
              "  </tbody>\n",
              "</table>\n",
              "</div>"
            ],
            "text/plain": [
              "       MeasuredValue\n",
              "count   22848.000000\n",
              "mean        0.035373\n",
              "std         0.338422\n",
              "min         0.000000\n",
              "25%         0.000000\n",
              "50%         0.000000\n",
              "75%         0.000000\n",
              "max        17.600000"
            ]
          },
          "metadata": {
            "tags": []
          },
          "execution_count": 52
        }
      ]
    },
    {
      "cell_type": "code",
      "metadata": {
        "colab": {
          "base_uri": "https://localhost:8080/"
        },
        "id": "LJGav9SbG-mn",
        "outputId": "1d31cde8-6a87-43d6-8861-8870d8c83c33"
      },
      "source": [
        "rain_values.dtypes"
      ],
      "execution_count": null,
      "outputs": [
        {
          "output_type": "execute_result",
          "data": {
            "text/plain": [
              "Time_Tag          object\n",
              "MeasuredValue    float64\n",
              "dtype: object"
            ]
          },
          "metadata": {
            "tags": []
          },
          "execution_count": 53
        }
      ]
    },
    {
      "cell_type": "code",
      "metadata": {
        "id": "Alg8L8XRTPmo"
      },
      "source": [
        "rain_values.reset_index( inplace = True )"
      ],
      "execution_count": null,
      "outputs": []
    },
    {
      "cell_type": "markdown",
      "metadata": {
        "id": "qhE-P5YUh6ew"
      },
      "source": [
        "Investigation max value"
      ]
    },
    {
      "cell_type": "code",
      "metadata": {
        "colab": {
          "base_uri": "https://localhost:8080/"
        },
        "id": "CANFQ_QMFl_m",
        "outputId": "fbe78702-363d-4f2d-f07f-98041dea3c4b"
      },
      "source": [
        "rain_values['MeasuredValue'].max() "
      ],
      "execution_count": null,
      "outputs": [
        {
          "output_type": "execute_result",
          "data": {
            "text/plain": [
              "17.6"
            ]
          },
          "metadata": {
            "tags": []
          },
          "execution_count": 21
        }
      ]
    },
    {
      "cell_type": "code",
      "metadata": {
        "colab": {
          "base_uri": "https://localhost:8080/"
        },
        "id": "4LAWU0kHE5-x",
        "outputId": "d05377dd-c6eb-48eb-a3b5-0ca1768df384"
      },
      "source": [
        "rain_values['MeasuredValue']. idxmax() "
      ],
      "execution_count": null,
      "outputs": [
        {
          "output_type": "execute_result",
          "data": {
            "text/plain": [
              "8666"
            ]
          },
          "metadata": {
            "tags": []
          },
          "execution_count": 26
        }
      ]
    },
    {
      "cell_type": "code",
      "metadata": {
        "colab": {
          "base_uri": "https://localhost:8080/",
          "height": 202
        },
        "id": "qZVHiCjjGfKU",
        "outputId": "3bc78723-1bb4-4044-d04c-d9c30b423f9a"
      },
      "source": [
        "rain_values.head()"
      ],
      "execution_count": null,
      "outputs": [
        {
          "output_type": "execute_result",
          "data": {
            "text/html": [
              "<div>\n",
              "<style scoped>\n",
              "    .dataframe tbody tr th:only-of-type {\n",
              "        vertical-align: middle;\n",
              "    }\n",
              "\n",
              "    .dataframe tbody tr th {\n",
              "        vertical-align: top;\n",
              "    }\n",
              "\n",
              "    .dataframe thead th {\n",
              "        text-align: right;\n",
              "    }\n",
              "</style>\n",
              "<table border=\"1\" class=\"dataframe\">\n",
              "  <thead>\n",
              "    <tr style=\"text-align: right;\">\n",
              "      <th></th>\n",
              "      <th>index</th>\n",
              "      <th>Time_Tag</th>\n",
              "      <th>MeasuredValue</th>\n",
              "    </tr>\n",
              "  </thead>\n",
              "  <tbody>\n",
              "    <tr>\n",
              "      <th>0</th>\n",
              "      <td>1</td>\n",
              "      <td>2013-04-09 12:10:00</td>\n",
              "      <td>0.0</td>\n",
              "    </tr>\n",
              "    <tr>\n",
              "      <th>1</th>\n",
              "      <td>2</td>\n",
              "      <td>2013-04-09 12:25:00</td>\n",
              "      <td>0.0</td>\n",
              "    </tr>\n",
              "    <tr>\n",
              "      <th>2</th>\n",
              "      <td>3</td>\n",
              "      <td>2013-04-09 12:40:00</td>\n",
              "      <td>0.0</td>\n",
              "    </tr>\n",
              "    <tr>\n",
              "      <th>3</th>\n",
              "      <td>4</td>\n",
              "      <td>2013-04-09 12:55:00</td>\n",
              "      <td>0.0</td>\n",
              "    </tr>\n",
              "    <tr>\n",
              "      <th>4</th>\n",
              "      <td>5</td>\n",
              "      <td>2013-04-09 13:10:00</td>\n",
              "      <td>0.0</td>\n",
              "    </tr>\n",
              "  </tbody>\n",
              "</table>\n",
              "</div>"
            ],
            "text/plain": [
              "   index             Time_Tag  MeasuredValue\n",
              "0      1  2013-04-09 12:10:00            0.0\n",
              "1      2  2013-04-09 12:25:00            0.0\n",
              "2      3  2013-04-09 12:40:00            0.0\n",
              "3      4  2013-04-09 12:55:00            0.0\n",
              "4      5  2013-04-09 13:10:00            0.0"
            ]
          },
          "metadata": {
            "tags": []
          },
          "execution_count": 27
        }
      ]
    },
    {
      "cell_type": "code",
      "metadata": {
        "colab": {
          "base_uri": "https://localhost:8080/",
          "height": 1000
        },
        "id": "FEXkDj8fE04n",
        "outputId": "58044b4f-3e82-403c-ff34-ec67f543836f"
      },
      "source": [
        "rain_values[(rain_values['Time_Tag'] > '2013-07-08 16:00:00') & (rain_values['Time_Tag'] < '2013-07-09')    ]"
      ],
      "execution_count": null,
      "outputs": [
        {
          "output_type": "execute_result",
          "data": {
            "text/html": [
              "<div>\n",
              "<style scoped>\n",
              "    .dataframe tbody tr th:only-of-type {\n",
              "        vertical-align: middle;\n",
              "    }\n",
              "\n",
              "    .dataframe tbody tr th {\n",
              "        vertical-align: top;\n",
              "    }\n",
              "\n",
              "    .dataframe thead th {\n",
              "        text-align: right;\n",
              "    }\n",
              "</style>\n",
              "<table border=\"1\" class=\"dataframe\">\n",
              "  <thead>\n",
              "    <tr style=\"text-align: right;\">\n",
              "      <th></th>\n",
              "      <th>index</th>\n",
              "      <th>Time_Tag</th>\n",
              "      <th>MeasuredValue</th>\n",
              "    </tr>\n",
              "  </thead>\n",
              "  <tbody>\n",
              "    <tr>\n",
              "      <th>8656</th>\n",
              "      <td>8657</td>\n",
              "      <td>2013-07-08 16:10:00</td>\n",
              "      <td>0.0</td>\n",
              "    </tr>\n",
              "    <tr>\n",
              "      <th>8657</th>\n",
              "      <td>8658</td>\n",
              "      <td>2013-07-08 16:25:00</td>\n",
              "      <td>0.0</td>\n",
              "    </tr>\n",
              "    <tr>\n",
              "      <th>8658</th>\n",
              "      <td>8659</td>\n",
              "      <td>2013-07-08 16:40:00</td>\n",
              "      <td>11.0</td>\n",
              "    </tr>\n",
              "    <tr>\n",
              "      <th>8659</th>\n",
              "      <td>8660</td>\n",
              "      <td>2013-07-08 16:55:00</td>\n",
              "      <td>3.2</td>\n",
              "    </tr>\n",
              "    <tr>\n",
              "      <th>8660</th>\n",
              "      <td>8661</td>\n",
              "      <td>2013-07-08 17:10:00</td>\n",
              "      <td>1.0</td>\n",
              "    </tr>\n",
              "    <tr>\n",
              "      <th>8661</th>\n",
              "      <td>8662</td>\n",
              "      <td>2013-07-08 17:25:00</td>\n",
              "      <td>1.6</td>\n",
              "    </tr>\n",
              "    <tr>\n",
              "      <th>8662</th>\n",
              "      <td>8663</td>\n",
              "      <td>2013-07-08 17:40:00</td>\n",
              "      <td>0.6</td>\n",
              "    </tr>\n",
              "    <tr>\n",
              "      <th>8663</th>\n",
              "      <td>8664</td>\n",
              "      <td>2013-07-08 17:55:00</td>\n",
              "      <td>0.4</td>\n",
              "    </tr>\n",
              "    <tr>\n",
              "      <th>8664</th>\n",
              "      <td>8665</td>\n",
              "      <td>2013-07-08 18:10:00</td>\n",
              "      <td>0.4</td>\n",
              "    </tr>\n",
              "    <tr>\n",
              "      <th>8665</th>\n",
              "      <td>8666</td>\n",
              "      <td>2013-07-08 18:25:00</td>\n",
              "      <td>10.4</td>\n",
              "    </tr>\n",
              "    <tr>\n",
              "      <th>8666</th>\n",
              "      <td>8667</td>\n",
              "      <td>2013-07-08 18:40:00</td>\n",
              "      <td>17.6</td>\n",
              "    </tr>\n",
              "    <tr>\n",
              "      <th>8667</th>\n",
              "      <td>8668</td>\n",
              "      <td>2013-07-08 18:55:00</td>\n",
              "      <td>15.2</td>\n",
              "    </tr>\n",
              "    <tr>\n",
              "      <th>8668</th>\n",
              "      <td>8669</td>\n",
              "      <td>2013-07-08 19:10:00</td>\n",
              "      <td>9.6</td>\n",
              "    </tr>\n",
              "    <tr>\n",
              "      <th>8669</th>\n",
              "      <td>8670</td>\n",
              "      <td>2013-07-08 19:25:00</td>\n",
              "      <td>5.2</td>\n",
              "    </tr>\n",
              "    <tr>\n",
              "      <th>8670</th>\n",
              "      <td>8671</td>\n",
              "      <td>2013-07-08 19:40:00</td>\n",
              "      <td>0.8</td>\n",
              "    </tr>\n",
              "    <tr>\n",
              "      <th>8671</th>\n",
              "      <td>8672</td>\n",
              "      <td>2013-07-08 19:55:00</td>\n",
              "      <td>0.2</td>\n",
              "    </tr>\n",
              "    <tr>\n",
              "      <th>8672</th>\n",
              "      <td>8673</td>\n",
              "      <td>2013-07-08 20:10:00</td>\n",
              "      <td>0.4</td>\n",
              "    </tr>\n",
              "    <tr>\n",
              "      <th>8673</th>\n",
              "      <td>8674</td>\n",
              "      <td>2013-07-08 20:25:00</td>\n",
              "      <td>0.4</td>\n",
              "    </tr>\n",
              "    <tr>\n",
              "      <th>8674</th>\n",
              "      <td>8675</td>\n",
              "      <td>2013-07-08 20:40:00</td>\n",
              "      <td>0.6</td>\n",
              "    </tr>\n",
              "    <tr>\n",
              "      <th>8675</th>\n",
              "      <td>8676</td>\n",
              "      <td>2013-07-08 20:55:00</td>\n",
              "      <td>0.8</td>\n",
              "    </tr>\n",
              "    <tr>\n",
              "      <th>8676</th>\n",
              "      <td>8677</td>\n",
              "      <td>2013-07-08 21:10:00</td>\n",
              "      <td>1.0</td>\n",
              "    </tr>\n",
              "    <tr>\n",
              "      <th>8677</th>\n",
              "      <td>8678</td>\n",
              "      <td>2013-07-08 21:25:00</td>\n",
              "      <td>0.6</td>\n",
              "    </tr>\n",
              "    <tr>\n",
              "      <th>8678</th>\n",
              "      <td>8679</td>\n",
              "      <td>2013-07-08 21:40:00</td>\n",
              "      <td>0.6</td>\n",
              "    </tr>\n",
              "    <tr>\n",
              "      <th>8679</th>\n",
              "      <td>8680</td>\n",
              "      <td>2013-07-08 21:55:00</td>\n",
              "      <td>0.2</td>\n",
              "    </tr>\n",
              "    <tr>\n",
              "      <th>8680</th>\n",
              "      <td>8681</td>\n",
              "      <td>2013-07-08 22:10:00</td>\n",
              "      <td>0.0</td>\n",
              "    </tr>\n",
              "    <tr>\n",
              "      <th>8681</th>\n",
              "      <td>8682</td>\n",
              "      <td>2013-07-08 22:25:00</td>\n",
              "      <td>0.0</td>\n",
              "    </tr>\n",
              "    <tr>\n",
              "      <th>8682</th>\n",
              "      <td>8683</td>\n",
              "      <td>2013-07-08 22:40:00</td>\n",
              "      <td>0.0</td>\n",
              "    </tr>\n",
              "    <tr>\n",
              "      <th>8683</th>\n",
              "      <td>8684</td>\n",
              "      <td>2013-07-08 22:55:00</td>\n",
              "      <td>0.0</td>\n",
              "    </tr>\n",
              "    <tr>\n",
              "      <th>8684</th>\n",
              "      <td>8685</td>\n",
              "      <td>2013-07-08 23:10:00</td>\n",
              "      <td>0.0</td>\n",
              "    </tr>\n",
              "    <tr>\n",
              "      <th>8685</th>\n",
              "      <td>8686</td>\n",
              "      <td>2013-07-08 23:25:00</td>\n",
              "      <td>0.0</td>\n",
              "    </tr>\n",
              "    <tr>\n",
              "      <th>8686</th>\n",
              "      <td>8687</td>\n",
              "      <td>2013-07-08 23:40:00</td>\n",
              "      <td>0.0</td>\n",
              "    </tr>\n",
              "    <tr>\n",
              "      <th>8687</th>\n",
              "      <td>8688</td>\n",
              "      <td>2013-07-08 23:55:00</td>\n",
              "      <td>0.0</td>\n",
              "    </tr>\n",
              "  </tbody>\n",
              "</table>\n",
              "</div>"
            ],
            "text/plain": [
              "      index             Time_Tag  MeasuredValue\n",
              "8656   8657  2013-07-08 16:10:00            0.0\n",
              "8657   8658  2013-07-08 16:25:00            0.0\n",
              "8658   8659  2013-07-08 16:40:00           11.0\n",
              "8659   8660  2013-07-08 16:55:00            3.2\n",
              "8660   8661  2013-07-08 17:10:00            1.0\n",
              "8661   8662  2013-07-08 17:25:00            1.6\n",
              "8662   8663  2013-07-08 17:40:00            0.6\n",
              "8663   8664  2013-07-08 17:55:00            0.4\n",
              "8664   8665  2013-07-08 18:10:00            0.4\n",
              "8665   8666  2013-07-08 18:25:00           10.4\n",
              "8666   8667  2013-07-08 18:40:00           17.6\n",
              "8667   8668  2013-07-08 18:55:00           15.2\n",
              "8668   8669  2013-07-08 19:10:00            9.6\n",
              "8669   8670  2013-07-08 19:25:00            5.2\n",
              "8670   8671  2013-07-08 19:40:00            0.8\n",
              "8671   8672  2013-07-08 19:55:00            0.2\n",
              "8672   8673  2013-07-08 20:10:00            0.4\n",
              "8673   8674  2013-07-08 20:25:00            0.4\n",
              "8674   8675  2013-07-08 20:40:00            0.6\n",
              "8675   8676  2013-07-08 20:55:00            0.8\n",
              "8676   8677  2013-07-08 21:10:00            1.0\n",
              "8677   8678  2013-07-08 21:25:00            0.6\n",
              "8678   8679  2013-07-08 21:40:00            0.6\n",
              "8679   8680  2013-07-08 21:55:00            0.2\n",
              "8680   8681  2013-07-08 22:10:00            0.0\n",
              "8681   8682  2013-07-08 22:25:00            0.0\n",
              "8682   8683  2013-07-08 22:40:00            0.0\n",
              "8683   8684  2013-07-08 22:55:00            0.0\n",
              "8684   8685  2013-07-08 23:10:00            0.0\n",
              "8685   8686  2013-07-08 23:25:00            0.0\n",
              "8686   8687  2013-07-08 23:40:00            0.0\n",
              "8687   8688  2013-07-08 23:55:00            0.0"
            ]
          },
          "metadata": {
            "tags": []
          },
          "execution_count": 48
        }
      ]
    },
    {
      "cell_type": "code",
      "metadata": {
        "colab": {
          "base_uri": "https://localhost:8080/",
          "height": 414
        },
        "id": "C7xF-pc6JS2e",
        "outputId": "b195ac75-5ec3-401f-a0a5-4389ed27e5e8"
      },
      "source": [
        "rain_values[(rain_values['Time_Tag'] < '2013-07-09')   ]"
      ],
      "execution_count": null,
      "outputs": [
        {
          "output_type": "execute_result",
          "data": {
            "text/html": [
              "<div>\n",
              "<style scoped>\n",
              "    .dataframe tbody tr th:only-of-type {\n",
              "        vertical-align: middle;\n",
              "    }\n",
              "\n",
              "    .dataframe tbody tr th {\n",
              "        vertical-align: top;\n",
              "    }\n",
              "\n",
              "    .dataframe thead th {\n",
              "        text-align: right;\n",
              "    }\n",
              "</style>\n",
              "<table border=\"1\" class=\"dataframe\">\n",
              "  <thead>\n",
              "    <tr style=\"text-align: right;\">\n",
              "      <th></th>\n",
              "      <th>index</th>\n",
              "      <th>Time_Tag</th>\n",
              "      <th>MeasuredValue</th>\n",
              "    </tr>\n",
              "  </thead>\n",
              "  <tbody>\n",
              "    <tr>\n",
              "      <th>0</th>\n",
              "      <td>1</td>\n",
              "      <td>2013-04-09 12:10:00</td>\n",
              "      <td>0.0</td>\n",
              "    </tr>\n",
              "    <tr>\n",
              "      <th>1</th>\n",
              "      <td>2</td>\n",
              "      <td>2013-04-09 12:25:00</td>\n",
              "      <td>0.0</td>\n",
              "    </tr>\n",
              "    <tr>\n",
              "      <th>2</th>\n",
              "      <td>3</td>\n",
              "      <td>2013-04-09 12:40:00</td>\n",
              "      <td>0.0</td>\n",
              "    </tr>\n",
              "    <tr>\n",
              "      <th>3</th>\n",
              "      <td>4</td>\n",
              "      <td>2013-04-09 12:55:00</td>\n",
              "      <td>0.0</td>\n",
              "    </tr>\n",
              "    <tr>\n",
              "      <th>4</th>\n",
              "      <td>5</td>\n",
              "      <td>2013-04-09 13:10:00</td>\n",
              "      <td>0.0</td>\n",
              "    </tr>\n",
              "    <tr>\n",
              "      <th>...</th>\n",
              "      <td>...</td>\n",
              "      <td>...</td>\n",
              "      <td>...</td>\n",
              "    </tr>\n",
              "    <tr>\n",
              "      <th>8683</th>\n",
              "      <td>8684</td>\n",
              "      <td>2013-07-08 22:55:00</td>\n",
              "      <td>0.0</td>\n",
              "    </tr>\n",
              "    <tr>\n",
              "      <th>8684</th>\n",
              "      <td>8685</td>\n",
              "      <td>2013-07-08 23:10:00</td>\n",
              "      <td>0.0</td>\n",
              "    </tr>\n",
              "    <tr>\n",
              "      <th>8685</th>\n",
              "      <td>8686</td>\n",
              "      <td>2013-07-08 23:25:00</td>\n",
              "      <td>0.0</td>\n",
              "    </tr>\n",
              "    <tr>\n",
              "      <th>8686</th>\n",
              "      <td>8687</td>\n",
              "      <td>2013-07-08 23:40:00</td>\n",
              "      <td>0.0</td>\n",
              "    </tr>\n",
              "    <tr>\n",
              "      <th>8687</th>\n",
              "      <td>8688</td>\n",
              "      <td>2013-07-08 23:55:00</td>\n",
              "      <td>0.0</td>\n",
              "    </tr>\n",
              "  </tbody>\n",
              "</table>\n",
              "<p>8688 rows × 3 columns</p>\n",
              "</div>"
            ],
            "text/plain": [
              "      index             Time_Tag  MeasuredValue\n",
              "0         1  2013-04-09 12:10:00            0.0\n",
              "1         2  2013-04-09 12:25:00            0.0\n",
              "2         3  2013-04-09 12:40:00            0.0\n",
              "3         4  2013-04-09 12:55:00            0.0\n",
              "4         5  2013-04-09 13:10:00            0.0\n",
              "...     ...                  ...            ...\n",
              "8683   8684  2013-07-08 22:55:00            0.0\n",
              "8684   8685  2013-07-08 23:10:00            0.0\n",
              "8685   8686  2013-07-08 23:25:00            0.0\n",
              "8686   8687  2013-07-08 23:40:00            0.0\n",
              "8687   8688  2013-07-08 23:55:00            0.0\n",
              "\n",
              "[8688 rows x 3 columns]"
            ]
          },
          "metadata": {
            "tags": []
          },
          "execution_count": 42
        }
      ]
    },
    {
      "cell_type": "code",
      "metadata": {
        "colab": {
          "base_uri": "https://localhost:8080/"
        },
        "id": "pwknbYueTT7P",
        "outputId": "93ed8b14-1057-41ab-f24f-e2fa2dbca32e"
      },
      "source": [
        "len(rain_values[rain_values['MeasuredValue']!=0])"
      ],
      "execution_count": null,
      "outputs": [
        {
          "output_type": "execute_result",
          "data": {
            "text/plain": [
              "1104"
            ]
          },
          "metadata": {
            "tags": []
          },
          "execution_count": 15
        }
      ]
    },
    {
      "cell_type": "code",
      "metadata": {
        "colab": {
          "base_uri": "https://localhost:8080/",
          "height": 265
        },
        "id": "gZRzCgeyTk2P",
        "outputId": "5df2dd96-0b29-4b50-9d2d-02238a341830"
      },
      "source": [
        "rain_values.plot()\n"
      ],
      "execution_count": null,
      "outputs": [
        {
          "output_type": "display_data",
          "data": {
            "image/png": "[encoded data removed]",
            "text/plain": [
              "<Figure size 432x288 with 1 Axes>"
            ]
          },
          "metadata": {
            "tags": [],
            "needs_background": "light"
          }
        }
      ]
    },
    {
      "cell_type": "markdown",
      "metadata": {
        "id": "cX6GYnheiAX0"
      },
      "source": [
        "Selection of warm period"
      ]
    },
    {
      "cell_type": "code",
      "metadata": {
        "id": "8NbomJ-14Wm5"
      },
      "source": [
        "rain_warm= rain_values[ (rain_values['Time_Tag']  > \t'2013-04-09') & (rain_values['Time_Tag']  < \t'2013-11-03') ]"
      ],
      "execution_count": null,
      "outputs": []
    },
    {
      "cell_type": "code",
      "metadata": {
        "colab": {
          "base_uri": "https://localhost:8080/"
        },
        "id": "ipi6m6-D4eEf",
        "outputId": "3df97364-8c9b-4cd9-c79d-edb22070e420"
      },
      "source": [
        "len(rain_warm)"
      ],
      "execution_count": null,
      "outputs": [
        {
          "output_type": "execute_result",
          "data": {
            "text/plain": [
              "19920"
            ]
          },
          "metadata": {
            "tags": []
          },
          "execution_count": 9
        }
      ]
    },
    {
      "cell_type": "code",
      "metadata": {
        "id": "QmawVBwT4yGV"
      },
      "source": [
        "rain_warm.reset_index(drop=True, inplace= True)"
      ],
      "execution_count": null,
      "outputs": []
    },
    {
      "cell_type": "code",
      "metadata": {
        "colab": {
          "base_uri": "https://localhost:8080/",
          "height": 204
        },
        "id": "jk2snSjv5NE0",
        "outputId": "91832d66-dbc8-435b-c48c-5782ca8e8df1"
      },
      "source": [
        "rain_warm.head()"
      ],
      "execution_count": null,
      "outputs": [
        {
          "output_type": "execute_result",
          "data": {
            "text/html": [
              "<div>\n",
              "<style scoped>\n",
              "    .dataframe tbody tr th:only-of-type {\n",
              "        vertical-align: middle;\n",
              "    }\n",
              "\n",
              "    .dataframe tbody tr th {\n",
              "        vertical-align: top;\n",
              "    }\n",
              "\n",
              "    .dataframe thead th {\n",
              "        text-align: right;\n",
              "    }\n",
              "</style>\n",
              "<table border=\"1\" class=\"dataframe\">\n",
              "  <thead>\n",
              "    <tr style=\"text-align: right;\">\n",
              "      <th></th>\n",
              "      <th>Time_Tag</th>\n",
              "      <th>MeasuredValue</th>\n",
              "    </tr>\n",
              "  </thead>\n",
              "  <tbody>\n",
              "    <tr>\n",
              "      <th>0</th>\n",
              "      <td>2013-04-09 12:10:00</td>\n",
              "      <td>0.0</td>\n",
              "    </tr>\n",
              "    <tr>\n",
              "      <th>1</th>\n",
              "      <td>2013-04-09 12:25:00</td>\n",
              "      <td>0.0</td>\n",
              "    </tr>\n",
              "    <tr>\n",
              "      <th>2</th>\n",
              "      <td>2013-04-09 12:40:00</td>\n",
              "      <td>0.0</td>\n",
              "    </tr>\n",
              "    <tr>\n",
              "      <th>3</th>\n",
              "      <td>2013-04-09 12:55:00</td>\n",
              "      <td>0.0</td>\n",
              "    </tr>\n",
              "    <tr>\n",
              "      <th>4</th>\n",
              "      <td>2013-04-09 13:10:00</td>\n",
              "      <td>0.0</td>\n",
              "    </tr>\n",
              "  </tbody>\n",
              "</table>\n",
              "</div>"
            ],
            "text/plain": [
              "              Time_Tag  MeasuredValue\n",
              "0  2013-04-09 12:10:00            0.0\n",
              "1  2013-04-09 12:25:00            0.0\n",
              "2  2013-04-09 12:40:00            0.0\n",
              "3  2013-04-09 12:55:00            0.0\n",
              "4  2013-04-09 13:10:00            0.0"
            ]
          },
          "metadata": {
            "tags": []
          },
          "execution_count": 11
        }
      ]
    },
    {
      "cell_type": "code",
      "metadata": {
        "id": "yybKp_4P4uMk"
      },
      "source": [
        "# 70% of the total amount of rainfall :  41831 \n",
        "train  = rain_warm.iloc[:13944]\n",
        "test = rain_warm.iloc[13944:]"
      ],
      "execution_count": null,
      "outputs": []
    },
    {
      "cell_type": "code",
      "metadata": {
        "colab": {
          "base_uri": "https://localhost:8080/",
          "height": 204
        },
        "id": "d4G6w5Xw5lnc",
        "outputId": "4050618f-7bd7-4e66-9893-71d3ba3a3f5f"
      },
      "source": [
        "train.tail()"
      ],
      "execution_count": null,
      "outputs": [
        {
          "output_type": "execute_result",
          "data": {
            "text/html": [
              "<div>\n",
              "<style scoped>\n",
              "    .dataframe tbody tr th:only-of-type {\n",
              "        vertical-align: middle;\n",
              "    }\n",
              "\n",
              "    .dataframe tbody tr th {\n",
              "        vertical-align: top;\n",
              "    }\n",
              "\n",
              "    .dataframe thead th {\n",
              "        text-align: right;\n",
              "    }\n",
              "</style>\n",
              "<table border=\"1\" class=\"dataframe\">\n",
              "  <thead>\n",
              "    <tr style=\"text-align: right;\">\n",
              "      <th></th>\n",
              "      <th>Time_Tag</th>\n",
              "      <th>MeasuredValue</th>\n",
              "    </tr>\n",
              "  </thead>\n",
              "  <tbody>\n",
              "    <tr>\n",
              "      <th>13939</th>\n",
              "      <td>2013-09-01 16:55:00</td>\n",
              "      <td>0.0</td>\n",
              "    </tr>\n",
              "    <tr>\n",
              "      <th>13940</th>\n",
              "      <td>2013-09-01 17:10:00</td>\n",
              "      <td>0.0</td>\n",
              "    </tr>\n",
              "    <tr>\n",
              "      <th>13941</th>\n",
              "      <td>2013-09-01 17:25:00</td>\n",
              "      <td>0.0</td>\n",
              "    </tr>\n",
              "    <tr>\n",
              "      <th>13942</th>\n",
              "      <td>2013-09-01 17:40:00</td>\n",
              "      <td>0.0</td>\n",
              "    </tr>\n",
              "    <tr>\n",
              "      <th>13943</th>\n",
              "      <td>2013-09-01 17:55:00</td>\n",
              "      <td>0.0</td>\n",
              "    </tr>\n",
              "  </tbody>\n",
              "</table>\n",
              "</div>"
            ],
            "text/plain": [
              "                  Time_Tag  MeasuredValue\n",
              "13939  2013-09-01 16:55:00            0.0\n",
              "13940  2013-09-01 17:10:00            0.0\n",
              "13941  2013-09-01 17:25:00            0.0\n",
              "13942  2013-09-01 17:40:00            0.0\n",
              "13943  2013-09-01 17:55:00            0.0"
            ]
          },
          "metadata": {
            "tags": []
          },
          "execution_count": 13
        }
      ]
    },
    {
      "cell_type": "code",
      "metadata": {
        "colab": {
          "base_uri": "https://localhost:8080/",
          "height": 204
        },
        "id": "96JCHnwE5oTe",
        "outputId": "0b6dcd7a-656c-4f96-cd12-b4d23ccb2b75"
      },
      "source": [
        "test.head()"
      ],
      "execution_count": null,
      "outputs": [
        {
          "output_type": "execute_result",
          "data": {
            "text/html": [
              "<div>\n",
              "<style scoped>\n",
              "    .dataframe tbody tr th:only-of-type {\n",
              "        vertical-align: middle;\n",
              "    }\n",
              "\n",
              "    .dataframe tbody tr th {\n",
              "        vertical-align: top;\n",
              "    }\n",
              "\n",
              "    .dataframe thead th {\n",
              "        text-align: right;\n",
              "    }\n",
              "</style>\n",
              "<table border=\"1\" class=\"dataframe\">\n",
              "  <thead>\n",
              "    <tr style=\"text-align: right;\">\n",
              "      <th></th>\n",
              "      <th>Time_Tag</th>\n",
              "      <th>MeasuredValue</th>\n",
              "    </tr>\n",
              "  </thead>\n",
              "  <tbody>\n",
              "    <tr>\n",
              "      <th>13944</th>\n",
              "      <td>2013-09-01 18:10:00</td>\n",
              "      <td>0.0</td>\n",
              "    </tr>\n",
              "    <tr>\n",
              "      <th>13945</th>\n",
              "      <td>2013-09-01 18:25:00</td>\n",
              "      <td>0.0</td>\n",
              "    </tr>\n",
              "    <tr>\n",
              "      <th>13946</th>\n",
              "      <td>2013-09-01 18:40:00</td>\n",
              "      <td>0.0</td>\n",
              "    </tr>\n",
              "    <tr>\n",
              "      <th>13947</th>\n",
              "      <td>2013-09-01 18:55:00</td>\n",
              "      <td>0.0</td>\n",
              "    </tr>\n",
              "    <tr>\n",
              "      <th>13948</th>\n",
              "      <td>2013-09-01 19:10:00</td>\n",
              "      <td>3.8</td>\n",
              "    </tr>\n",
              "  </tbody>\n",
              "</table>\n",
              "</div>"
            ],
            "text/plain": [
              "                  Time_Tag  MeasuredValue\n",
              "13944  2013-09-01 18:10:00            0.0\n",
              "13945  2013-09-01 18:25:00            0.0\n",
              "13946  2013-09-01 18:40:00            0.0\n",
              "13947  2013-09-01 18:55:00            0.0\n",
              "13948  2013-09-01 19:10:00            3.8"
            ]
          },
          "metadata": {
            "tags": []
          },
          "execution_count": 14
        }
      ]
    },
    {
      "cell_type": "code",
      "metadata": {
        "colab": {
          "base_uri": "https://localhost:8080/"
        },
        "id": "-snUT0jM6URm",
        "outputId": "795853da-d8da-48ad-e8b0-03b12ca543d3"
      },
      "source": [
        "len(train[train['MeasuredValue']!=0])"
      ],
      "execution_count": null,
      "outputs": [
        {
          "output_type": "execute_result",
          "data": {
            "text/plain": [
              "663"
            ]
          },
          "metadata": {
            "tags": []
          },
          "execution_count": 83
        }
      ]
    },
    {
      "cell_type": "code",
      "metadata": {
        "colab": {
          "base_uri": "https://localhost:8080/"
        },
        "id": "VUGN_s7G6UIV",
        "outputId": "03d550e9-3cff-4ecb-b998-b167097cbeff"
      },
      "source": [
        "len(test[test['MeasuredValue']!=0])"
      ],
      "execution_count": null,
      "outputs": [
        {
          "output_type": "execute_result",
          "data": {
            "text/plain": [
              "358"
            ]
          },
          "metadata": {
            "tags": []
          },
          "execution_count": 87
        }
      ]
    },
    {
      "cell_type": "code",
      "metadata": {
        "colab": {
          "base_uri": "https://localhost:8080/"
        },
        "id": "nq6QLi-v7Fco",
        "outputId": "668b693e-c5a1-4d6d-c883-b3b3e7d35f7b"
      },
      "source": [
        "values = pd.DataFrame(test.MeasuredValue)\n",
        "len(values)"
      ],
      "execution_count": null,
      "outputs": [
        {
          "output_type": "execute_result",
          "data": {
            "text/plain": [
              "5976"
            ]
          },
          "metadata": {
            "tags": []
          },
          "execution_count": 15
        }
      ]
    },
    {
      "cell_type": "code",
      "metadata": {
        "id": "yUHV9-RhUKEn"
      },
      "source": [
        "#Persistence model\n",
        "\n",
        "def model_persistence(x):\n",
        "    return x"
      ],
      "execution_count": null,
      "outputs": []
    },
    {
      "cell_type": "markdown",
      "metadata": {
        "id": "5ErLCA_pWwEe"
      },
      "source": [
        "# 15 min *prediction*"
      ]
    },
    {
      "cell_type": "code",
      "metadata": {
        "id": "rLoasEdqWvze"
      },
      "source": [
        "XY_rain = pd.concat([values.shift(1), values], axis=1)\n",
        "XY_rain.columns = ['t', 't+1']"
      ],
      "execution_count": null,
      "outputs": []
    },
    {
      "cell_type": "code",
      "metadata": {
        "colab": {
          "base_uri": "https://localhost:8080/",
          "height": 204
        },
        "id": "PJc9cDZQWqtr",
        "outputId": "b41d6e96-c37a-4c40-92ee-4e9983854b97"
      },
      "source": [
        "XY_rain.reset_index(drop=True , inplace=True )\n",
        "XY_rain.head(5)"
      ],
      "execution_count": null,
      "outputs": [
        {
          "output_type": "execute_result",
          "data": {
            "text/html": [
              "<div>\n",
              "<style scoped>\n",
              "    .dataframe tbody tr th:only-of-type {\n",
              "        vertical-align: middle;\n",
              "    }\n",
              "\n",
              "    .dataframe tbody tr th {\n",
              "        vertical-align: top;\n",
              "    }\n",
              "\n",
              "    .dataframe thead th {\n",
              "        text-align: right;\n",
              "    }\n",
              "</style>\n",
              "<table border=\"1\" class=\"dataframe\">\n",
              "  <thead>\n",
              "    <tr style=\"text-align: right;\">\n",
              "      <th></th>\n",
              "      <th>t</th>\n",
              "      <th>t+1</th>\n",
              "    </tr>\n",
              "  </thead>\n",
              "  <tbody>\n",
              "    <tr>\n",
              "      <th>0</th>\n",
              "      <td>NaN</td>\n",
              "      <td>0.0</td>\n",
              "    </tr>\n",
              "    <tr>\n",
              "      <th>1</th>\n",
              "      <td>0.0</td>\n",
              "      <td>0.0</td>\n",
              "    </tr>\n",
              "    <tr>\n",
              "      <th>2</th>\n",
              "      <td>0.0</td>\n",
              "      <td>0.0</td>\n",
              "    </tr>\n",
              "    <tr>\n",
              "      <th>3</th>\n",
              "      <td>0.0</td>\n",
              "      <td>0.0</td>\n",
              "    </tr>\n",
              "    <tr>\n",
              "      <th>4</th>\n",
              "      <td>0.0</td>\n",
              "      <td>3.8</td>\n",
              "    </tr>\n",
              "  </tbody>\n",
              "</table>\n",
              "</div>"
            ],
            "text/plain": [
              "     t  t+1\n",
              "0  NaN  0.0\n",
              "1  0.0  0.0\n",
              "2  0.0  0.0\n",
              "3  0.0  0.0\n",
              "4  0.0  3.8"
            ]
          },
          "metadata": {
            "tags": []
          },
          "execution_count": 17
        }
      ]
    },
    {
      "cell_type": "code",
      "metadata": {
        "id": "j1ZYV70XXJq1"
      },
      "source": [
        "#removing NaN values \n",
        "XY_rain.drop(0 , axis=0 , inplace=True)"
      ],
      "execution_count": null,
      "outputs": []
    },
    {
      "cell_type": "code",
      "metadata": {
        "colab": {
          "base_uri": "https://localhost:8080/",
          "height": 204
        },
        "id": "4xG3bJdiaSCg",
        "outputId": "28d188c2-4254-4730-db84-e2183f2756cb"
      },
      "source": [
        "XY_rain.reset_index(drop= True, inplace=True)\n",
        "XY_rain.head()"
      ],
      "execution_count": null,
      "outputs": [
        {
          "output_type": "execute_result",
          "data": {
            "text/html": [
              "<div>\n",
              "<style scoped>\n",
              "    .dataframe tbody tr th:only-of-type {\n",
              "        vertical-align: middle;\n",
              "    }\n",
              "\n",
              "    .dataframe tbody tr th {\n",
              "        vertical-align: top;\n",
              "    }\n",
              "\n",
              "    .dataframe thead th {\n",
              "        text-align: right;\n",
              "    }\n",
              "</style>\n",
              "<table border=\"1\" class=\"dataframe\">\n",
              "  <thead>\n",
              "    <tr style=\"text-align: right;\">\n",
              "      <th></th>\n",
              "      <th>t</th>\n",
              "      <th>t+1</th>\n",
              "    </tr>\n",
              "  </thead>\n",
              "  <tbody>\n",
              "    <tr>\n",
              "      <th>0</th>\n",
              "      <td>0.0</td>\n",
              "      <td>0.0</td>\n",
              "    </tr>\n",
              "    <tr>\n",
              "      <th>1</th>\n",
              "      <td>0.0</td>\n",
              "      <td>0.0</td>\n",
              "    </tr>\n",
              "    <tr>\n",
              "      <th>2</th>\n",
              "      <td>0.0</td>\n",
              "      <td>0.0</td>\n",
              "    </tr>\n",
              "    <tr>\n",
              "      <th>3</th>\n",
              "      <td>0.0</td>\n",
              "      <td>3.8</td>\n",
              "    </tr>\n",
              "    <tr>\n",
              "      <th>4</th>\n",
              "      <td>3.8</td>\n",
              "      <td>3.6</td>\n",
              "    </tr>\n",
              "  </tbody>\n",
              "</table>\n",
              "</div>"
            ],
            "text/plain": [
              "     t  t+1\n",
              "0  0.0  0.0\n",
              "1  0.0  0.0\n",
              "2  0.0  0.0\n",
              "3  0.0  3.8\n",
              "4  3.8  3.6"
            ]
          },
          "metadata": {
            "tags": []
          },
          "execution_count": 19
        }
      ]
    },
    {
      "cell_type": "code",
      "metadata": {
        "id": "9aBgTHe6XUG_"
      },
      "source": [
        "predictions  = XY_rain['t'].apply(lambda x : model_persistence(x))"
      ],
      "execution_count": null,
      "outputs": []
    },
    {
      "cell_type": "code",
      "metadata": {
        "colab": {
          "base_uri": "https://localhost:8080/"
        },
        "id": "6yDRDa5SbL6W",
        "outputId": "6ceccd52-5733-4211-c241-427691f0922e"
      },
      "source": [
        "predictions\n",
        "mre_score = max_error (XY_rain['t+1'], predictions)\n",
        "print('Test MRE: %.3f' % mre_score)\n",
        "mae_score = mean_absolute_error (XY_rain['t+1'], predictions)\n",
        "print('Test MAE: %.3f' % mae_score)\n",
        "rmse_score = np.sqrt(mean_squared_error( XY_rain['t+1'], predictions))\n",
        "print('Test RMSE: %.3f' % rmse_score)\n",
        "r2 = r2_score(XY_rain['t+1'], predictions)\n",
        "print('Test R2: %.3f' % r2)\n"
      ],
      "execution_count": null,
      "outputs": [
        {
          "output_type": "stream",
          "text": [
            "Test MRE: 8.400\n",
            "Test MAE: 0.033\n",
            "Test RMSE: 0.221\n",
            "Test R2: -0.050\n"
          ],
          "name": "stdout"
        }
      ]
    },
    {
      "cell_type": "code",
      "metadata": {
        "id": "Z6t0w-Z_Pl_2"
      },
      "source": [
        "#Analysis of performance on Test data \n",
        "y = XY_rain['t+1']\n",
        "y_hat = predictions"
      ],
      "execution_count": null,
      "outputs": []
    },
    {
      "cell_type": "code",
      "metadata": {
        "id": "8silsJlRRuFJ"
      },
      "source": [
        "y_y_hat = pd.DataFrame({'y':y , 'y_hat':y_hat} )"
      ],
      "execution_count": null,
      "outputs": []
    },
    {
      "cell_type": "code",
      "metadata": {
        "id": "w6TZb9RDSYj_"
      },
      "source": [
        "pd.set_option('display.max_rows', 100)"
      ],
      "execution_count": null,
      "outputs": []
    },
    {
      "cell_type": "code",
      "metadata": {
        "colab": {
          "base_uri": "https://localhost:8080/",
          "height": 1000
        },
        "id": "5u4rCwEZSHu6",
        "outputId": "52f4b553-d0c3-41b4-d2a2-c35f72cc2b04"
      },
      "source": [
        "y_y_hat.iloc[1:99]"
      ],
      "execution_count": null,
      "outputs": [
        {
          "output_type": "execute_result",
          "data": {
            "text/html": [
              "<div>\n",
              "<style scoped>\n",
              "    .dataframe tbody tr th:only-of-type {\n",
              "        vertical-align: middle;\n",
              "    }\n",
              "\n",
              "    .dataframe tbody tr th {\n",
              "        vertical-align: top;\n",
              "    }\n",
              "\n",
              "    .dataframe thead th {\n",
              "        text-align: right;\n",
              "    }\n",
              "</style>\n",
              "<table border=\"1\" class=\"dataframe\">\n",
              "  <thead>\n",
              "    <tr style=\"text-align: right;\">\n",
              "      <th></th>\n",
              "      <th>y</th>\n",
              "      <th>y_hat</th>\n",
              "    </tr>\n",
              "  </thead>\n",
              "  <tbody>\n",
              "    <tr>\n",
              "      <th>1</th>\n",
              "      <td>0.0</td>\n",
              "      <td>0.0</td>\n",
              "    </tr>\n",
              "    <tr>\n",
              "      <th>2</th>\n",
              "      <td>0.0</td>\n",
              "      <td>0.0</td>\n",
              "    </tr>\n",
              "    <tr>\n",
              "      <th>3</th>\n",
              "      <td>3.8</td>\n",
              "      <td>0.0</td>\n",
              "    </tr>\n",
              "    <tr>\n",
              "      <th>4</th>\n",
              "      <td>3.6</td>\n",
              "      <td>3.8</td>\n",
              "    </tr>\n",
              "    <tr>\n",
              "      <th>5</th>\n",
              "      <td>1.8</td>\n",
              "      <td>3.6</td>\n",
              "    </tr>\n",
              "    <tr>\n",
              "      <th>6</th>\n",
              "      <td>0.0</td>\n",
              "      <td>1.8</td>\n",
              "    </tr>\n",
              "    <tr>\n",
              "      <th>7</th>\n",
              "      <td>0.4</td>\n",
              "      <td>0.0</td>\n",
              "    </tr>\n",
              "    <tr>\n",
              "      <th>8</th>\n",
              "      <td>0.2</td>\n",
              "      <td>0.4</td>\n",
              "    </tr>\n",
              "    <tr>\n",
              "      <th>9</th>\n",
              "      <td>0.0</td>\n",
              "      <td>0.2</td>\n",
              "    </tr>\n",
              "    <tr>\n",
              "      <th>10</th>\n",
              "      <td>0.0</td>\n",
              "      <td>0.0</td>\n",
              "    </tr>\n",
              "    <tr>\n",
              "      <th>11</th>\n",
              "      <td>0.0</td>\n",
              "      <td>0.0</td>\n",
              "    </tr>\n",
              "    <tr>\n",
              "      <th>12</th>\n",
              "      <td>0.0</td>\n",
              "      <td>0.0</td>\n",
              "    </tr>\n",
              "    <tr>\n",
              "      <th>13</th>\n",
              "      <td>0.0</td>\n",
              "      <td>0.0</td>\n",
              "    </tr>\n",
              "    <tr>\n",
              "      <th>14</th>\n",
              "      <td>0.0</td>\n",
              "      <td>0.0</td>\n",
              "    </tr>\n",
              "    <tr>\n",
              "      <th>15</th>\n",
              "      <td>0.0</td>\n",
              "      <td>0.0</td>\n",
              "    </tr>\n",
              "    <tr>\n",
              "      <th>16</th>\n",
              "      <td>0.0</td>\n",
              "      <td>0.0</td>\n",
              "    </tr>\n",
              "    <tr>\n",
              "      <th>17</th>\n",
              "      <td>0.0</td>\n",
              "      <td>0.0</td>\n",
              "    </tr>\n",
              "    <tr>\n",
              "      <th>18</th>\n",
              "      <td>0.0</td>\n",
              "      <td>0.0</td>\n",
              "    </tr>\n",
              "    <tr>\n",
              "      <th>19</th>\n",
              "      <td>0.0</td>\n",
              "      <td>0.0</td>\n",
              "    </tr>\n",
              "    <tr>\n",
              "      <th>20</th>\n",
              "      <td>0.0</td>\n",
              "      <td>0.0</td>\n",
              "    </tr>\n",
              "    <tr>\n",
              "      <th>21</th>\n",
              "      <td>0.0</td>\n",
              "      <td>0.0</td>\n",
              "    </tr>\n",
              "    <tr>\n",
              "      <th>22</th>\n",
              "      <td>0.0</td>\n",
              "      <td>0.0</td>\n",
              "    </tr>\n",
              "    <tr>\n",
              "      <th>23</th>\n",
              "      <td>0.0</td>\n",
              "      <td>0.0</td>\n",
              "    </tr>\n",
              "    <tr>\n",
              "      <th>24</th>\n",
              "      <td>0.0</td>\n",
              "      <td>0.0</td>\n",
              "    </tr>\n",
              "    <tr>\n",
              "      <th>25</th>\n",
              "      <td>0.0</td>\n",
              "      <td>0.0</td>\n",
              "    </tr>\n",
              "    <tr>\n",
              "      <th>26</th>\n",
              "      <td>0.0</td>\n",
              "      <td>0.0</td>\n",
              "    </tr>\n",
              "    <tr>\n",
              "      <th>27</th>\n",
              "      <td>0.0</td>\n",
              "      <td>0.0</td>\n",
              "    </tr>\n",
              "    <tr>\n",
              "      <th>28</th>\n",
              "      <td>0.0</td>\n",
              "      <td>0.0</td>\n",
              "    </tr>\n",
              "    <tr>\n",
              "      <th>29</th>\n",
              "      <td>0.0</td>\n",
              "      <td>0.0</td>\n",
              "    </tr>\n",
              "    <tr>\n",
              "      <th>30</th>\n",
              "      <td>0.0</td>\n",
              "      <td>0.0</td>\n",
              "    </tr>\n",
              "    <tr>\n",
              "      <th>31</th>\n",
              "      <td>0.0</td>\n",
              "      <td>0.0</td>\n",
              "    </tr>\n",
              "    <tr>\n",
              "      <th>32</th>\n",
              "      <td>0.0</td>\n",
              "      <td>0.0</td>\n",
              "    </tr>\n",
              "    <tr>\n",
              "      <th>33</th>\n",
              "      <td>0.0</td>\n",
              "      <td>0.0</td>\n",
              "    </tr>\n",
              "    <tr>\n",
              "      <th>34</th>\n",
              "      <td>0.0</td>\n",
              "      <td>0.0</td>\n",
              "    </tr>\n",
              "    <tr>\n",
              "      <th>35</th>\n",
              "      <td>0.0</td>\n",
              "      <td>0.0</td>\n",
              "    </tr>\n",
              "    <tr>\n",
              "      <th>36</th>\n",
              "      <td>0.0</td>\n",
              "      <td>0.0</td>\n",
              "    </tr>\n",
              "    <tr>\n",
              "      <th>37</th>\n",
              "      <td>0.0</td>\n",
              "      <td>0.0</td>\n",
              "    </tr>\n",
              "    <tr>\n",
              "      <th>38</th>\n",
              "      <td>0.0</td>\n",
              "      <td>0.0</td>\n",
              "    </tr>\n",
              "    <tr>\n",
              "      <th>39</th>\n",
              "      <td>0.0</td>\n",
              "      <td>0.0</td>\n",
              "    </tr>\n",
              "    <tr>\n",
              "      <th>40</th>\n",
              "      <td>0.0</td>\n",
              "      <td>0.0</td>\n",
              "    </tr>\n",
              "    <tr>\n",
              "      <th>41</th>\n",
              "      <td>0.0</td>\n",
              "      <td>0.0</td>\n",
              "    </tr>\n",
              "    <tr>\n",
              "      <th>42</th>\n",
              "      <td>0.0</td>\n",
              "      <td>0.0</td>\n",
              "    </tr>\n",
              "    <tr>\n",
              "      <th>43</th>\n",
              "      <td>0.0</td>\n",
              "      <td>0.0</td>\n",
              "    </tr>\n",
              "    <tr>\n",
              "      <th>44</th>\n",
              "      <td>0.0</td>\n",
              "      <td>0.0</td>\n",
              "    </tr>\n",
              "    <tr>\n",
              "      <th>45</th>\n",
              "      <td>0.0</td>\n",
              "      <td>0.0</td>\n",
              "    </tr>\n",
              "    <tr>\n",
              "      <th>46</th>\n",
              "      <td>0.0</td>\n",
              "      <td>0.0</td>\n",
              "    </tr>\n",
              "    <tr>\n",
              "      <th>47</th>\n",
              "      <td>0.0</td>\n",
              "      <td>0.0</td>\n",
              "    </tr>\n",
              "    <tr>\n",
              "      <th>48</th>\n",
              "      <td>0.0</td>\n",
              "      <td>0.0</td>\n",
              "    </tr>\n",
              "    <tr>\n",
              "      <th>49</th>\n",
              "      <td>0.0</td>\n",
              "      <td>0.0</td>\n",
              "    </tr>\n",
              "    <tr>\n",
              "      <th>50</th>\n",
              "      <td>0.0</td>\n",
              "      <td>0.0</td>\n",
              "    </tr>\n",
              "    <tr>\n",
              "      <th>51</th>\n",
              "      <td>0.0</td>\n",
              "      <td>0.0</td>\n",
              "    </tr>\n",
              "    <tr>\n",
              "      <th>52</th>\n",
              "      <td>0.2</td>\n",
              "      <td>0.0</td>\n",
              "    </tr>\n",
              "    <tr>\n",
              "      <th>53</th>\n",
              "      <td>0.0</td>\n",
              "      <td>0.2</td>\n",
              "    </tr>\n",
              "    <tr>\n",
              "      <th>54</th>\n",
              "      <td>0.0</td>\n",
              "      <td>0.0</td>\n",
              "    </tr>\n",
              "    <tr>\n",
              "      <th>55</th>\n",
              "      <td>0.0</td>\n",
              "      <td>0.0</td>\n",
              "    </tr>\n",
              "    <tr>\n",
              "      <th>56</th>\n",
              "      <td>0.0</td>\n",
              "      <td>0.0</td>\n",
              "    </tr>\n",
              "    <tr>\n",
              "      <th>57</th>\n",
              "      <td>0.0</td>\n",
              "      <td>0.0</td>\n",
              "    </tr>\n",
              "    <tr>\n",
              "      <th>58</th>\n",
              "      <td>0.0</td>\n",
              "      <td>0.0</td>\n",
              "    </tr>\n",
              "    <tr>\n",
              "      <th>59</th>\n",
              "      <td>0.0</td>\n",
              "      <td>0.0</td>\n",
              "    </tr>\n",
              "    <tr>\n",
              "      <th>60</th>\n",
              "      <td>0.0</td>\n",
              "      <td>0.0</td>\n",
              "    </tr>\n",
              "    <tr>\n",
              "      <th>61</th>\n",
              "      <td>0.0</td>\n",
              "      <td>0.0</td>\n",
              "    </tr>\n",
              "    <tr>\n",
              "      <th>62</th>\n",
              "      <td>0.0</td>\n",
              "      <td>0.0</td>\n",
              "    </tr>\n",
              "    <tr>\n",
              "      <th>63</th>\n",
              "      <td>0.0</td>\n",
              "      <td>0.0</td>\n",
              "    </tr>\n",
              "    <tr>\n",
              "      <th>64</th>\n",
              "      <td>0.0</td>\n",
              "      <td>0.0</td>\n",
              "    </tr>\n",
              "    <tr>\n",
              "      <th>65</th>\n",
              "      <td>0.0</td>\n",
              "      <td>0.0</td>\n",
              "    </tr>\n",
              "    <tr>\n",
              "      <th>66</th>\n",
              "      <td>0.0</td>\n",
              "      <td>0.0</td>\n",
              "    </tr>\n",
              "    <tr>\n",
              "      <th>67</th>\n",
              "      <td>0.0</td>\n",
              "      <td>0.0</td>\n",
              "    </tr>\n",
              "    <tr>\n",
              "      <th>68</th>\n",
              "      <td>0.0</td>\n",
              "      <td>0.0</td>\n",
              "    </tr>\n",
              "    <tr>\n",
              "      <th>69</th>\n",
              "      <td>0.0</td>\n",
              "      <td>0.0</td>\n",
              "    </tr>\n",
              "    <tr>\n",
              "      <th>70</th>\n",
              "      <td>0.0</td>\n",
              "      <td>0.0</td>\n",
              "    </tr>\n",
              "    <tr>\n",
              "      <th>71</th>\n",
              "      <td>0.0</td>\n",
              "      <td>0.0</td>\n",
              "    </tr>\n",
              "    <tr>\n",
              "      <th>72</th>\n",
              "      <td>0.0</td>\n",
              "      <td>0.0</td>\n",
              "    </tr>\n",
              "    <tr>\n",
              "      <th>73</th>\n",
              "      <td>0.0</td>\n",
              "      <td>0.0</td>\n",
              "    </tr>\n",
              "    <tr>\n",
              "      <th>74</th>\n",
              "      <td>0.0</td>\n",
              "      <td>0.0</td>\n",
              "    </tr>\n",
              "    <tr>\n",
              "      <th>75</th>\n",
              "      <td>0.0</td>\n",
              "      <td>0.0</td>\n",
              "    </tr>\n",
              "    <tr>\n",
              "      <th>76</th>\n",
              "      <td>0.0</td>\n",
              "      <td>0.0</td>\n",
              "    </tr>\n",
              "    <tr>\n",
              "      <th>77</th>\n",
              "      <td>0.0</td>\n",
              "      <td>0.0</td>\n",
              "    </tr>\n",
              "    <tr>\n",
              "      <th>78</th>\n",
              "      <td>0.0</td>\n",
              "      <td>0.0</td>\n",
              "    </tr>\n",
              "    <tr>\n",
              "      <th>79</th>\n",
              "      <td>0.0</td>\n",
              "      <td>0.0</td>\n",
              "    </tr>\n",
              "    <tr>\n",
              "      <th>80</th>\n",
              "      <td>0.0</td>\n",
              "      <td>0.0</td>\n",
              "    </tr>\n",
              "    <tr>\n",
              "      <th>81</th>\n",
              "      <td>0.0</td>\n",
              "      <td>0.0</td>\n",
              "    </tr>\n",
              "    <tr>\n",
              "      <th>82</th>\n",
              "      <td>0.0</td>\n",
              "      <td>0.0</td>\n",
              "    </tr>\n",
              "    <tr>\n",
              "      <th>83</th>\n",
              "      <td>0.0</td>\n",
              "      <td>0.0</td>\n",
              "    </tr>\n",
              "    <tr>\n",
              "      <th>84</th>\n",
              "      <td>0.0</td>\n",
              "      <td>0.0</td>\n",
              "    </tr>\n",
              "    <tr>\n",
              "      <th>85</th>\n",
              "      <td>0.0</td>\n",
              "      <td>0.0</td>\n",
              "    </tr>\n",
              "    <tr>\n",
              "      <th>86</th>\n",
              "      <td>0.0</td>\n",
              "      <td>0.0</td>\n",
              "    </tr>\n",
              "    <tr>\n",
              "      <th>87</th>\n",
              "      <td>0.0</td>\n",
              "      <td>0.0</td>\n",
              "    </tr>\n",
              "    <tr>\n",
              "      <th>88</th>\n",
              "      <td>0.0</td>\n",
              "      <td>0.0</td>\n",
              "    </tr>\n",
              "    <tr>\n",
              "      <th>89</th>\n",
              "      <td>0.0</td>\n",
              "      <td>0.0</td>\n",
              "    </tr>\n",
              "    <tr>\n",
              "      <th>90</th>\n",
              "      <td>0.0</td>\n",
              "      <td>0.0</td>\n",
              "    </tr>\n",
              "    <tr>\n",
              "      <th>91</th>\n",
              "      <td>0.0</td>\n",
              "      <td>0.0</td>\n",
              "    </tr>\n",
              "    <tr>\n",
              "      <th>92</th>\n",
              "      <td>0.0</td>\n",
              "      <td>0.0</td>\n",
              "    </tr>\n",
              "    <tr>\n",
              "      <th>93</th>\n",
              "      <td>0.0</td>\n",
              "      <td>0.0</td>\n",
              "    </tr>\n",
              "    <tr>\n",
              "      <th>94</th>\n",
              "      <td>0.0</td>\n",
              "      <td>0.0</td>\n",
              "    </tr>\n",
              "    <tr>\n",
              "      <th>95</th>\n",
              "      <td>0.0</td>\n",
              "      <td>0.0</td>\n",
              "    </tr>\n",
              "    <tr>\n",
              "      <th>96</th>\n",
              "      <td>0.0</td>\n",
              "      <td>0.0</td>\n",
              "    </tr>\n",
              "    <tr>\n",
              "      <th>97</th>\n",
              "      <td>0.0</td>\n",
              "      <td>0.0</td>\n",
              "    </tr>\n",
              "    <tr>\n",
              "      <th>98</th>\n",
              "      <td>0.0</td>\n",
              "      <td>0.0</td>\n",
              "    </tr>\n",
              "  </tbody>\n",
              "</table>\n",
              "</div>"
            ],
            "text/plain": [
              "      y  y_hat\n",
              "1   0.0    0.0\n",
              "2   0.0    0.0\n",
              "3   3.8    0.0\n",
              "4   3.6    3.8\n",
              "5   1.8    3.6\n",
              "6   0.0    1.8\n",
              "7   0.4    0.0\n",
              "8   0.2    0.4\n",
              "9   0.0    0.2\n",
              "10  0.0    0.0\n",
              "11  0.0    0.0\n",
              "12  0.0    0.0\n",
              "13  0.0    0.0\n",
              "14  0.0    0.0\n",
              "15  0.0    0.0\n",
              "16  0.0    0.0\n",
              "17  0.0    0.0\n",
              "18  0.0    0.0\n",
              "19  0.0    0.0\n",
              "20  0.0    0.0\n",
              "21  0.0    0.0\n",
              "22  0.0    0.0\n",
              "23  0.0    0.0\n",
              "24  0.0    0.0\n",
              "25  0.0    0.0\n",
              "26  0.0    0.0\n",
              "27  0.0    0.0\n",
              "28  0.0    0.0\n",
              "29  0.0    0.0\n",
              "30  0.0    0.0\n",
              "31  0.0    0.0\n",
              "32  0.0    0.0\n",
              "33  0.0    0.0\n",
              "34  0.0    0.0\n",
              "35  0.0    0.0\n",
              "36  0.0    0.0\n",
              "37  0.0    0.0\n",
              "38  0.0    0.0\n",
              "39  0.0    0.0\n",
              "40  0.0    0.0\n",
              "41  0.0    0.0\n",
              "42  0.0    0.0\n",
              "43  0.0    0.0\n",
              "44  0.0    0.0\n",
              "45  0.0    0.0\n",
              "46  0.0    0.0\n",
              "47  0.0    0.0\n",
              "48  0.0    0.0\n",
              "49  0.0    0.0\n",
              "50  0.0    0.0\n",
              "51  0.0    0.0\n",
              "52  0.2    0.0\n",
              "53  0.0    0.2\n",
              "54  0.0    0.0\n",
              "55  0.0    0.0\n",
              "56  0.0    0.0\n",
              "57  0.0    0.0\n",
              "58  0.0    0.0\n",
              "59  0.0    0.0\n",
              "60  0.0    0.0\n",
              "61  0.0    0.0\n",
              "62  0.0    0.0\n",
              "63  0.0    0.0\n",
              "64  0.0    0.0\n",
              "65  0.0    0.0\n",
              "66  0.0    0.0\n",
              "67  0.0    0.0\n",
              "68  0.0    0.0\n",
              "69  0.0    0.0\n",
              "70  0.0    0.0\n",
              "71  0.0    0.0\n",
              "72  0.0    0.0\n",
              "73  0.0    0.0\n",
              "74  0.0    0.0\n",
              "75  0.0    0.0\n",
              "76  0.0    0.0\n",
              "77  0.0    0.0\n",
              "78  0.0    0.0\n",
              "79  0.0    0.0\n",
              "80  0.0    0.0\n",
              "81  0.0    0.0\n",
              "82  0.0    0.0\n",
              "83  0.0    0.0\n",
              "84  0.0    0.0\n",
              "85  0.0    0.0\n",
              "86  0.0    0.0\n",
              "87  0.0    0.0\n",
              "88  0.0    0.0\n",
              "89  0.0    0.0\n",
              "90  0.0    0.0\n",
              "91  0.0    0.0\n",
              "92  0.0    0.0\n",
              "93  0.0    0.0\n",
              "94  0.0    0.0\n",
              "95  0.0    0.0\n",
              "96  0.0    0.0\n",
              "97  0.0    0.0\n",
              "98  0.0    0.0"
            ]
          },
          "metadata": {
            "tags": []
          },
          "execution_count": 46
        }
      ]
    },
    {
      "cell_type": "code",
      "metadata": {
        "id": "lXcKBvs9T4rJ"
      },
      "source": [
        "y_y_hat['residual_error'] = y_y_hat['y'] - y_y_hat['y_hat']"
      ],
      "execution_count": null,
      "outputs": []
    },
    {
      "cell_type": "code",
      "metadata": {
        "colab": {
          "base_uri": "https://localhost:8080/",
          "height": 297
        },
        "id": "jgglh9WaUQ0I",
        "outputId": "11b8d75c-902f-4a8d-9fbe-fbc2de58e611"
      },
      "source": [
        "y_y_hat.describe()"
      ],
      "execution_count": null,
      "outputs": [
        {
          "output_type": "execute_result",
          "data": {
            "text/html": [
              "<div>\n",
              "<style scoped>\n",
              "    .dataframe tbody tr th:only-of-type {\n",
              "        vertical-align: middle;\n",
              "    }\n",
              "\n",
              "    .dataframe tbody tr th {\n",
              "        vertical-align: top;\n",
              "    }\n",
              "\n",
              "    .dataframe thead th {\n",
              "        text-align: right;\n",
              "    }\n",
              "</style>\n",
              "<table border=\"1\" class=\"dataframe\">\n",
              "  <thead>\n",
              "    <tr style=\"text-align: right;\">\n",
              "      <th></th>\n",
              "      <th>y</th>\n",
              "      <th>y_hat</th>\n",
              "      <th>residual_error</th>\n",
              "    </tr>\n",
              "  </thead>\n",
              "  <tbody>\n",
              "    <tr>\n",
              "      <th>count</th>\n",
              "      <td>5975.000000</td>\n",
              "      <td>5975.000000</td>\n",
              "      <td>5.975000e+03</td>\n",
              "    </tr>\n",
              "    <tr>\n",
              "      <th>mean</th>\n",
              "      <td>0.032770</td>\n",
              "      <td>0.032770</td>\n",
              "      <td>-1.207774e-19</td>\n",
              "    </tr>\n",
              "    <tr>\n",
              "      <th>std</th>\n",
              "      <td>0.215387</td>\n",
              "      <td>0.215387</td>\n",
              "      <td>2.206907e-01</td>\n",
              "    </tr>\n",
              "    <tr>\n",
              "      <th>min</th>\n",
              "      <td>0.000000</td>\n",
              "      <td>0.000000</td>\n",
              "      <td>-8.000000e+00</td>\n",
              "    </tr>\n",
              "    <tr>\n",
              "      <th>25%</th>\n",
              "      <td>0.000000</td>\n",
              "      <td>0.000000</td>\n",
              "      <td>0.000000e+00</td>\n",
              "    </tr>\n",
              "    <tr>\n",
              "      <th>50%</th>\n",
              "      <td>0.000000</td>\n",
              "      <td>0.000000</td>\n",
              "      <td>0.000000e+00</td>\n",
              "    </tr>\n",
              "    <tr>\n",
              "      <th>75%</th>\n",
              "      <td>0.000000</td>\n",
              "      <td>0.000000</td>\n",
              "      <td>0.000000e+00</td>\n",
              "    </tr>\n",
              "    <tr>\n",
              "      <th>max</th>\n",
              "      <td>9.000000</td>\n",
              "      <td>9.000000</td>\n",
              "      <td>8.400000e+00</td>\n",
              "    </tr>\n",
              "  </tbody>\n",
              "</table>\n",
              "</div>"
            ],
            "text/plain": [
              "                 y        y_hat  residual_error\n",
              "count  5975.000000  5975.000000    5.975000e+03\n",
              "mean      0.032770     0.032770   -1.207774e-19\n",
              "std       0.215387     0.215387    2.206907e-01\n",
              "min       0.000000     0.000000   -8.000000e+00\n",
              "25%       0.000000     0.000000    0.000000e+00\n",
              "50%       0.000000     0.000000    0.000000e+00\n",
              "75%       0.000000     0.000000    0.000000e+00\n",
              "max       9.000000     9.000000    8.400000e+00"
            ]
          },
          "metadata": {
            "tags": []
          },
          "execution_count": 50
        }
      ]
    },
    {
      "cell_type": "code",
      "metadata": {
        "colab": {
          "base_uri": "https://localhost:8080/",
          "height": 204
        },
        "id": "eLwfI3G_Upsd",
        "outputId": "8e230d44-c51f-4c2b-fa0e-44015ad62ef7"
      },
      "source": [
        "y_y_hat [abs(y_y_hat['residual_error'])>3]"
      ],
      "execution_count": null,
      "outputs": [
        {
          "output_type": "execute_result",
          "data": {
            "text/html": [
              "<div>\n",
              "<style scoped>\n",
              "    .dataframe tbody tr th:only-of-type {\n",
              "        vertical-align: middle;\n",
              "    }\n",
              "\n",
              "    .dataframe tbody tr th {\n",
              "        vertical-align: top;\n",
              "    }\n",
              "\n",
              "    .dataframe thead th {\n",
              "        text-align: right;\n",
              "    }\n",
              "</style>\n",
              "<table border=\"1\" class=\"dataframe\">\n",
              "  <thead>\n",
              "    <tr style=\"text-align: right;\">\n",
              "      <th></th>\n",
              "      <th>y</th>\n",
              "      <th>y_hat</th>\n",
              "      <th>residual_error</th>\n",
              "    </tr>\n",
              "  </thead>\n",
              "  <tbody>\n",
              "    <tr>\n",
              "      <th>3</th>\n",
              "      <td>3.8</td>\n",
              "      <td>0.0</td>\n",
              "      <td>3.8</td>\n",
              "    </tr>\n",
              "    <tr>\n",
              "      <th>973</th>\n",
              "      <td>4.6</td>\n",
              "      <td>0.2</td>\n",
              "      <td>4.4</td>\n",
              "    </tr>\n",
              "    <tr>\n",
              "      <th>974</th>\n",
              "      <td>0.8</td>\n",
              "      <td>4.6</td>\n",
              "      <td>-3.8</td>\n",
              "    </tr>\n",
              "    <tr>\n",
              "      <th>1838</th>\n",
              "      <td>9.0</td>\n",
              "      <td>0.6</td>\n",
              "      <td>8.4</td>\n",
              "    </tr>\n",
              "    <tr>\n",
              "      <th>1839</th>\n",
              "      <td>1.0</td>\n",
              "      <td>9.0</td>\n",
              "      <td>-8.0</td>\n",
              "    </tr>\n",
              "  </tbody>\n",
              "</table>\n",
              "</div>"
            ],
            "text/plain": [
              "        y  y_hat  residual_error\n",
              "3     3.8    0.0             3.8\n",
              "973   4.6    0.2             4.4\n",
              "974   0.8    4.6            -3.8\n",
              "1838  9.0    0.6             8.4\n",
              "1839  1.0    9.0            -8.0"
            ]
          },
          "metadata": {
            "tags": []
          },
          "execution_count": 52
        }
      ]
    },
    {
      "cell_type": "code",
      "metadata": {
        "colab": {
          "base_uri": "https://localhost:8080/"
        },
        "id": "8Lue8oPZPvwv",
        "outputId": "52670962-b266-4f7d-b80c-bcce751e658d"
      },
      "source": [
        "for i in range(1,99):\n",
        "  print( y [i] )"
      ],
      "execution_count": null,
      "outputs": [
        {
          "output_type": "stream",
          "text": [
            "0.0\n",
            "0.0\n",
            "3.8\n",
            "3.6\n",
            "1.8\n",
            "0.0\n",
            "0.4\n",
            "0.2\n",
            "0.0\n",
            "0.0\n",
            "0.0\n",
            "0.0\n",
            "0.0\n",
            "0.0\n",
            "0.0\n",
            "0.0\n",
            "0.0\n",
            "0.0\n",
            "0.0\n",
            "0.0\n",
            "0.0\n",
            "0.0\n",
            "0.0\n",
            "0.0\n",
            "0.0\n",
            "0.0\n",
            "0.0\n",
            "0.0\n",
            "0.0\n",
            "0.0\n",
            "0.0\n",
            "0.0\n",
            "0.0\n",
            "0.0\n",
            "0.0\n",
            "0.0\n",
            "0.0\n",
            "0.0\n",
            "0.0\n",
            "0.0\n",
            "0.0\n",
            "0.0\n",
            "0.0\n",
            "0.0\n",
            "0.0\n",
            "0.0\n",
            "0.0\n",
            "0.0\n",
            "0.0\n",
            "0.0\n",
            "0.0\n",
            "0.2\n",
            "0.0\n",
            "0.0\n",
            "0.0\n",
            "0.0\n",
            "0.0\n",
            "0.0\n",
            "0.0\n",
            "0.0\n",
            "0.0\n",
            "0.0\n",
            "0.0\n",
            "0.0\n",
            "0.0\n",
            "0.0\n",
            "0.0\n",
            "0.0\n",
            "0.0\n",
            "0.0\n",
            "0.0\n",
            "0.0\n",
            "0.0\n",
            "0.0\n",
            "0.0\n",
            "0.0\n",
            "0.0\n",
            "0.0\n",
            "0.0\n",
            "0.0\n",
            "0.0\n",
            "0.0\n",
            "0.0\n",
            "0.0\n",
            "0.0\n",
            "0.0\n",
            "0.0\n",
            "0.0\n",
            "0.0\n",
            "0.0\n",
            "0.0\n",
            "0.0\n",
            "0.0\n",
            "0.0\n",
            "0.0\n",
            "0.0\n",
            "0.0\n",
            "0.0\n"
          ],
          "name": "stdout"
        }
      ]
    },
    {
      "cell_type": "code",
      "metadata": {
        "colab": {
          "base_uri": "https://localhost:8080/"
        },
        "id": "dqCC2sxUP3wQ",
        "outputId": "15eda762-4400-4368-e285-2a6e13716d3e"
      },
      "source": [
        "for i in range(1,99):\n",
        "  print( y_hat [i] )"
      ],
      "execution_count": null,
      "outputs": [
        {
          "output_type": "stream",
          "text": [
            "0.0\n",
            "0.0\n",
            "0.0\n",
            "3.8\n",
            "3.6\n",
            "1.8\n",
            "0.0\n",
            "0.4\n",
            "0.2\n",
            "0.0\n",
            "0.0\n",
            "0.0\n",
            "0.0\n",
            "0.0\n",
            "0.0\n",
            "0.0\n",
            "0.0\n",
            "0.0\n",
            "0.0\n",
            "0.0\n",
            "0.0\n",
            "0.0\n",
            "0.0\n",
            "0.0\n",
            "0.0\n",
            "0.0\n",
            "0.0\n",
            "0.0\n",
            "0.0\n",
            "0.0\n",
            "0.0\n",
            "0.0\n",
            "0.0\n",
            "0.0\n",
            "0.0\n",
            "0.0\n",
            "0.0\n",
            "0.0\n",
            "0.0\n",
            "0.0\n",
            "0.0\n",
            "0.0\n",
            "0.0\n",
            "0.0\n",
            "0.0\n",
            "0.0\n",
            "0.0\n",
            "0.0\n",
            "0.0\n",
            "0.0\n",
            "0.0\n",
            "0.0\n",
            "0.2\n",
            "0.0\n",
            "0.0\n",
            "0.0\n",
            "0.0\n",
            "0.0\n",
            "0.0\n",
            "0.0\n",
            "0.0\n",
            "0.0\n",
            "0.0\n",
            "0.0\n",
            "0.0\n",
            "0.0\n",
            "0.0\n",
            "0.0\n",
            "0.0\n",
            "0.0\n",
            "0.0\n",
            "0.0\n",
            "0.0\n",
            "0.0\n",
            "0.0\n",
            "0.0\n",
            "0.0\n",
            "0.0\n",
            "0.0\n",
            "0.0\n",
            "0.0\n",
            "0.0\n",
            "0.0\n",
            "0.0\n",
            "0.0\n",
            "0.0\n",
            "0.0\n",
            "0.0\n",
            "0.0\n",
            "0.0\n",
            "0.0\n",
            "0.0\n",
            "0.0\n",
            "0.0\n",
            "0.0\n",
            "0.0\n",
            "0.0\n",
            "0.0\n"
          ],
          "name": "stdout"
        }
      ]
    },
    {
      "cell_type": "code",
      "metadata": {
        "colab": {
          "base_uri": "https://localhost:8080/"
        },
        "id": "d_t2D3um8mAD",
        "outputId": "9a3dfa57-f537-4101-8d73-82b5db1e9885"
      },
      "source": [
        "predictions\n",
        "mre_score = max_error (XY_rain['t+1'], predictions)\n",
        "print('Test MRE: %.3f' % mre_score)\n",
        "mae_score = mean_absolute_error (XY_rain['t+1'], predictions)\n",
        "print('Test MAE: %.3f' % mae_score)\n",
        "rmse_score = np.sqrt(mean_squared_error( XY_rain['t+1'], predictions))\n",
        "print('Test RMSE: %.3f' % rmse_score)\n",
        "r2 = r2_score(XY_rain['t+1'], predictions)\n",
        "print('Test R2: %.3f' % r2)\n"
      ],
      "execution_count": null,
      "outputs": [
        {
          "output_type": "stream",
          "text": [
            "Test MRE: 8.400\n",
            "Test MAE: 0.033\n",
            "Test RMSE: 0.221\n",
            "Test R2: -0.050\n"
          ],
          "name": "stdout"
        }
      ]
    },
    {
      "cell_type": "code",
      "metadata": {
        "colab": {
          "base_uri": "https://localhost:8080/"
        },
        "id": "cVbKCFAs769D",
        "outputId": "d5bec97d-987b-4097-e29d-aeb812a73549"
      },
      "source": [
        "# Scores on rain and no rain tuples seperately \n",
        "\n",
        "results  = pd.DataFrame( { 'true' :XY_rain['t+1'] , 'prediction':predictions } )\n",
        "print (\"Scores on rain tupes \\n\")\n",
        "\n",
        "results_true_rain = results[results['true']!=0].true\n",
        "results_prediction_rain = results[results['true']!=0].prediction\n",
        "mre_score = max_error ( results_true_rain,results_prediction_rain )\n",
        "print('Test MRE: %.3f' % mre_score)\n",
        "mae_score = mean_absolute_error (results_true_rain, results_prediction_rain)\n",
        "print('Test MAE: %.3f' % mae_score)\n",
        "rmse_score = np.sqrt(mean_squared_error( results_true_rain, results_prediction_rain))\n",
        "print('Test RMSE: %.3f' % rmse_score)\n",
        "r2 = r2_score(results_true_rain, results_prediction_rain)\n",
        "print('Test R2: %.3f' % r2)\n",
        "\n",
        "\n",
        "print (\"\\n Scores on no-rain tupes \\n\")\n",
        "results_true_no_rain = results[results['true']==0].true\n",
        "results_prediction_no_rain = results[results['true']==0].prediction\n",
        "\n",
        "mre_score = max_error (results_true_no_rain, results_prediction_no_rain)\n",
        "print('Test MRE: %.3f' % mre_score)\n",
        "mae_score = mean_absolute_error (results_true_no_rain, results_prediction_no_rain)\n",
        "print('Test MAE: %.3f' % mae_score)\n",
        "rmse_score = np.sqrt(mean_squared_error( results_true_no_rain, results_prediction_no_rain))\n",
        "print('Test RMSE: %.3f' % rmse_score)\n",
        "r2 = r2_score(results_true_no_rain, results_prediction_no_rain)\n",
        "print('Test R2: %.3f' % r2)\n",
        "\n",
        "\n"
      ],
      "execution_count": null,
      "outputs": [
        {
          "output_type": "stream",
          "text": [
            "Scores on rain tupes \n",
            "\n",
            "Test MRE: 8.400\n",
            "Test MAE: 0.423\n",
            "Test RMSE: 0.866\n",
            "Test R2: -0.523\n",
            "\n",
            " Scores on no-rain tupes \n",
            "\n",
            "Test MRE: 1.800\n",
            "Test MAE: 0.008\n",
            "Test RMSE: 0.063\n",
            "Test R2: 0.000\n"
          ],
          "name": "stdout"
        }
      ]
    },
    {
      "cell_type": "code",
      "metadata": {
        "colab": {
          "base_uri": "https://localhost:8080/",
          "height": 500
        },
        "id": "ASU_CtXoemUA",
        "outputId": "c29cf9c1-98f0-4bad-d5a6-ef93eac316d6"
      },
      "source": [
        "from matplotlib.pyplot import figure\n",
        "test_y_crop = XY_rain['t+1'][:100]\n",
        "predictions_crop = predictions[:100]\n",
        "figure(figsize=(20, 8))\n",
        "pyplot.plot( [x for x in test_y_crop])\n",
        "pyplot.plot([x for x in predictions_crop])"
      ],
      "execution_count": null,
      "outputs": [
        {
          "output_type": "execute_result",
          "data": {
            "text/plain": [
              "[<matplotlib.lines.Line2D at 0x7f9c87fc2810>]"
            ]
          },
          "metadata": {
            "tags": []
          },
          "execution_count": 63
        },
        {
          "output_type": "display_data",
          "data": {
            "image/png": "[encoded data removed]",
            "text/plain": [
              "<Figure size 1440x576 with 1 Axes>"
            ]
          },
          "metadata": {
            "tags": [],
            "needs_background": "light"
          }
        }
      ]
    },
    {
      "cell_type": "markdown",
      "metadata": {
        "id": "nl8StACfhIiI"
      },
      "source": [
        ""
      ]
    },
    {
      "cell_type": "markdown",
      "metadata": {
        "id": "52OdUl_fhOEK"
      },
      "source": [
        "# 30 min *prediction* "
      ]
    },
    {
      "cell_type": "code",
      "metadata": {
        "id": "8nbR4vcYhOEM"
      },
      "source": [
        "XY_rain = pd.concat([values.shift(2), values], axis=1)\n",
        "XY_rain.columns = ['t', 't+2']"
      ],
      "execution_count": null,
      "outputs": []
    },
    {
      "cell_type": "code",
      "metadata": {
        "colab": {
          "base_uri": "https://localhost:8080/",
          "height": 204
        },
        "id": "7IcXlY_ShOEN",
        "outputId": "d7062f2b-acbf-4e6f-aa6f-11995b75b99d"
      },
      "source": [
        "\n",
        "XY_rain.head(5)"
      ],
      "execution_count": null,
      "outputs": [
        {
          "output_type": "execute_result",
          "data": {
            "text/html": [
              "<div>\n",
              "<style scoped>\n",
              "    .dataframe tbody tr th:only-of-type {\n",
              "        vertical-align: middle;\n",
              "    }\n",
              "\n",
              "    .dataframe tbody tr th {\n",
              "        vertical-align: top;\n",
              "    }\n",
              "\n",
              "    .dataframe thead th {\n",
              "        text-align: right;\n",
              "    }\n",
              "</style>\n",
              "<table border=\"1\" class=\"dataframe\">\n",
              "  <thead>\n",
              "    <tr style=\"text-align: right;\">\n",
              "      <th></th>\n",
              "      <th>t</th>\n",
              "      <th>t+2</th>\n",
              "    </tr>\n",
              "  </thead>\n",
              "  <tbody>\n",
              "    <tr>\n",
              "      <th>13944</th>\n",
              "      <td>NaN</td>\n",
              "      <td>0.0</td>\n",
              "    </tr>\n",
              "    <tr>\n",
              "      <th>13945</th>\n",
              "      <td>NaN</td>\n",
              "      <td>0.0</td>\n",
              "    </tr>\n",
              "    <tr>\n",
              "      <th>13946</th>\n",
              "      <td>0.0</td>\n",
              "      <td>0.0</td>\n",
              "    </tr>\n",
              "    <tr>\n",
              "      <th>13947</th>\n",
              "      <td>0.0</td>\n",
              "      <td>0.0</td>\n",
              "    </tr>\n",
              "    <tr>\n",
              "      <th>13948</th>\n",
              "      <td>0.0</td>\n",
              "      <td>3.8</td>\n",
              "    </tr>\n",
              "  </tbody>\n",
              "</table>\n",
              "</div>"
            ],
            "text/plain": [
              "         t  t+2\n",
              "13944  NaN  0.0\n",
              "13945  NaN  0.0\n",
              "13946  0.0  0.0\n",
              "13947  0.0  0.0\n",
              "13948  0.0  3.8"
            ]
          },
          "metadata": {
            "tags": []
          },
          "execution_count": 117
        }
      ]
    },
    {
      "cell_type": "code",
      "metadata": {
        "id": "eLLyg3eUhOEP"
      },
      "source": [
        "#removing NaN values \n",
        "XY_rain.reset_index(drop= True, inplace=True)\n",
        "XY_rain.drop([0,1] , axis=0 , inplace=True)"
      ],
      "execution_count": null,
      "outputs": []
    },
    {
      "cell_type": "code",
      "metadata": {
        "colab": {
          "base_uri": "https://localhost:8080/",
          "height": 204
        },
        "id": "AYT1JNpXhOEP",
        "outputId": "757e4b36-0ccd-4fef-949d-cd3fe6a9931d"
      },
      "source": [
        "XY_rain.reset_index(drop= True, inplace=True)\n",
        "XY_rain.head()"
      ],
      "execution_count": null,
      "outputs": [
        {
          "output_type": "execute_result",
          "data": {
            "text/html": [
              "<div>\n",
              "<style scoped>\n",
              "    .dataframe tbody tr th:only-of-type {\n",
              "        vertical-align: middle;\n",
              "    }\n",
              "\n",
              "    .dataframe tbody tr th {\n",
              "        vertical-align: top;\n",
              "    }\n",
              "\n",
              "    .dataframe thead th {\n",
              "        text-align: right;\n",
              "    }\n",
              "</style>\n",
              "<table border=\"1\" class=\"dataframe\">\n",
              "  <thead>\n",
              "    <tr style=\"text-align: right;\">\n",
              "      <th></th>\n",
              "      <th>t</th>\n",
              "      <th>t+2</th>\n",
              "    </tr>\n",
              "  </thead>\n",
              "  <tbody>\n",
              "    <tr>\n",
              "      <th>0</th>\n",
              "      <td>0.0</td>\n",
              "      <td>0.0</td>\n",
              "    </tr>\n",
              "    <tr>\n",
              "      <th>1</th>\n",
              "      <td>0.0</td>\n",
              "      <td>0.0</td>\n",
              "    </tr>\n",
              "    <tr>\n",
              "      <th>2</th>\n",
              "      <td>0.0</td>\n",
              "      <td>3.8</td>\n",
              "    </tr>\n",
              "    <tr>\n",
              "      <th>3</th>\n",
              "      <td>0.0</td>\n",
              "      <td>3.6</td>\n",
              "    </tr>\n",
              "    <tr>\n",
              "      <th>4</th>\n",
              "      <td>3.8</td>\n",
              "      <td>1.8</td>\n",
              "    </tr>\n",
              "  </tbody>\n",
              "</table>\n",
              "</div>"
            ],
            "text/plain": [
              "     t  t+2\n",
              "0  0.0  0.0\n",
              "1  0.0  0.0\n",
              "2  0.0  3.8\n",
              "3  0.0  3.6\n",
              "4  3.8  1.8"
            ]
          },
          "metadata": {
            "tags": []
          },
          "execution_count": 120
        }
      ]
    },
    {
      "cell_type": "code",
      "metadata": {
        "id": "MkXtQZ-PhOEQ"
      },
      "source": [
        "predictions  = XY_rain['t'].apply(lambda x : model_persistence(x))"
      ],
      "execution_count": null,
      "outputs": []
    },
    {
      "cell_type": "code",
      "metadata": {
        "colab": {
          "base_uri": "https://localhost:8080/"
        },
        "id": "smHY7OIkhOER",
        "outputId": "023cb45b-173b-4891-fdb5-f0aa0c522acc"
      },
      "source": [
        "predictions\n",
        "mre_score = max_error (XY_rain['t+2'], predictions)\n",
        "print('Test MRE: %.3f' % mre_score)\n",
        "mae_score = mean_absolute_error (XY_rain['t+2'], predictions)\n",
        "print('Test MAE: %.3f' % mae_score)\n",
        "rmse_score = np.sqrt(mean_squared_error( XY_rain['t+2'], predictions))\n",
        "print('Test RMSE: %.3f' % rmse_score)\n",
        "r2 = r2_score(XY_rain['t+2'], predictions)\n",
        "print('Test R2: %.3f' % r2)\n"
      ],
      "execution_count": null,
      "outputs": [
        {
          "output_type": "stream",
          "text": [
            "Test MRE: 17.200\n",
            "Test MAE: 0.044\n",
            "Test RMSE: 0.383\n",
            "Test R2: -0.283\n"
          ],
          "name": "stdout"
        }
      ]
    },
    {
      "cell_type": "code",
      "metadata": {
        "colab": {
          "base_uri": "https://localhost:8080/"
        },
        "id": "vipGV0th802t",
        "outputId": "56988d9f-a8ff-41aa-f2d4-d1b6719f1931"
      },
      "source": [
        "predictions\n",
        "mre_score = max_error (XY_rain['t+2'], predictions)\n",
        "print('Test MRE: %.3f' % mre_score)\n",
        "mae_score = mean_absolute_error (XY_rain['t+2'], predictions)\n",
        "print('Test MAE: %.3f' % mae_score)\n",
        "rmse_score = np.sqrt(mean_squared_error( XY_rain['t+2'], predictions))\n",
        "print('Test RMSE: %.3f' % rmse_score)\n",
        "r2 = r2_score(XY_rain['t+2'], predictions)\n",
        "print('Test R2: %.3f' % r2)\n"
      ],
      "execution_count": null,
      "outputs": [
        {
          "output_type": "stream",
          "text": [
            "Test MRE: 8.800\n",
            "Test MAE: 0.037\n",
            "Test RMSE: 0.250\n",
            "Test R2: -0.347\n"
          ],
          "name": "stdout"
        }
      ]
    },
    {
      "cell_type": "code",
      "metadata": {
        "colab": {
          "base_uri": "https://localhost:8080/"
        },
        "id": "C3yzks7W88cJ",
        "outputId": "299c1cad-484c-4008-ddb8-3c0efbc4e9fc"
      },
      "source": [
        "# Scores on rain and no rain tuples seperately \n",
        "\n",
        "results  = pd.DataFrame( { 'true' :XY_rain['t+2'] , 'prediction':predictions } )\n",
        "print (\"Scores on rain tupes \\n\")\n",
        "\n",
        "results_true_rain = results[results['true']!=0].true\n",
        "results_prediction_rain = results[results['true']!=0].prediction\n",
        "mre_score = max_error ( results_true_rain,results_prediction_rain )\n",
        "print('Test MRE: %.3f' % mre_score)\n",
        "mae_score = mean_absolute_error (results_true_rain, results_prediction_rain)\n",
        "print('Test MAE: %.3f' % mae_score)\n",
        "rmse_score = np.sqrt(mean_squared_error( results_true_rain, results_prediction_rain))\n",
        "print('Test RMSE: %.3f' % rmse_score)\n",
        "r2 = r2_score(results_true_rain, results_prediction_rain)\n",
        "print('Test R2: %.3f' % r2)\n",
        "\n",
        "\n",
        "print (\"\\n Scores on no-rain tupes \\n\")\n",
        "results_true_no_rain = results[results['true']==0].true\n",
        "results_prediction_no_rain = results[results['true']==0].prediction\n",
        "\n",
        "mre_score = max_error (results_true_no_rain, results_prediction_no_rain)\n",
        "print('Test MRE: %.3f' % mre_score)\n",
        "mae_score = mean_absolute_error (results_true_no_rain, results_prediction_no_rain)\n",
        "print('Test MAE: %.3f' % mae_score)\n",
        "rmse_score = np.sqrt(mean_squared_error( results_true_no_rain, results_prediction_no_rain))\n",
        "print('Test RMSE: %.3f' % rmse_score)\n",
        "r2 = r2_score(results_true_no_rain, results_prediction_no_rain)\n",
        "print('Test R2: %.3f' % r2)\n"
      ],
      "execution_count": null,
      "outputs": [
        {
          "output_type": "stream",
          "text": [
            "Scores on rain tupes \n",
            "\n",
            "Test MRE: 8.800\n",
            "Test MAE: 0.458\n",
            "Test RMSE: 0.954\n",
            "Test R2: -0.845\n",
            "\n",
            " Scores on no-rain tupes \n",
            "\n",
            "Test MRE: 3.600\n",
            "Test MAE: 0.010\n",
            "Test RMSE: 0.092\n",
            "Test R2: 0.000\n"
          ],
          "name": "stdout"
        }
      ]
    },
    {
      "cell_type": "code",
      "metadata": {
        "colab": {
          "base_uri": "https://localhost:8080/",
          "height": 500
        },
        "id": "niDjPHDVhOES",
        "outputId": "02b441d7-c5ea-4ae0-d797-b12742f1fd4a"
      },
      "source": [
        "from matplotlib.pyplot import figure\n",
        "test_y_crop = XY_rain['t+2'][:100]\n",
        "predictions_crop = predictions[:100]\n",
        "figure(figsize=(20, 8))\n",
        "pyplot.plot( [x for x in test_y_crop])\n",
        "pyplot.plot([x for x in predictions_crop])"
      ],
      "execution_count": null,
      "outputs": [
        {
          "output_type": "execute_result",
          "data": {
            "text/plain": [
              "[<matplotlib.lines.Line2D at 0x7f9c87f0d2d0>]"
            ]
          },
          "metadata": {
            "tags": []
          },
          "execution_count": 74
        },
        {
          "output_type": "display_data",
          "data": {
            "image/png": "[encoded data removed]",
            "text/plain": [
              "<Figure size 1440x576 with 1 Axes>"
            ]
          },
          "metadata": {
            "tags": [],
            "needs_background": "light"
          }
        }
      ]
    },
    {
      "cell_type": "markdown",
      "metadata": {
        "id": "iJ1vsYSizPz7"
      },
      "source": [
        "# 45 min *predictions*"
      ]
    },
    {
      "cell_type": "code",
      "metadata": {
        "id": "oX-tT7d2ylxR"
      },
      "source": [
        "XY_rain = pd.concat([values.shift(3), values], axis=1)\n",
        "XY_rain.columns = ['t', 't+3']"
      ],
      "execution_count": null,
      "outputs": []
    },
    {
      "cell_type": "code",
      "metadata": {
        "colab": {
          "base_uri": "https://localhost:8080/",
          "height": 204
        },
        "id": "ROqGhNlKylxT",
        "outputId": "784dd2d8-657e-4117-9ebf-c5ad3225070a"
      },
      "source": [
        "XY_rain.head(5)"
      ],
      "execution_count": null,
      "outputs": [
        {
          "output_type": "execute_result",
          "data": {
            "text/html": [
              "<div>\n",
              "<style scoped>\n",
              "    .dataframe tbody tr th:only-of-type {\n",
              "        vertical-align: middle;\n",
              "    }\n",
              "\n",
              "    .dataframe tbody tr th {\n",
              "        vertical-align: top;\n",
              "    }\n",
              "\n",
              "    .dataframe thead th {\n",
              "        text-align: right;\n",
              "    }\n",
              "</style>\n",
              "<table border=\"1\" class=\"dataframe\">\n",
              "  <thead>\n",
              "    <tr style=\"text-align: right;\">\n",
              "      <th></th>\n",
              "      <th>t</th>\n",
              "      <th>t+3</th>\n",
              "    </tr>\n",
              "  </thead>\n",
              "  <tbody>\n",
              "    <tr>\n",
              "      <th>13944</th>\n",
              "      <td>NaN</td>\n",
              "      <td>0.0</td>\n",
              "    </tr>\n",
              "    <tr>\n",
              "      <th>13945</th>\n",
              "      <td>NaN</td>\n",
              "      <td>0.0</td>\n",
              "    </tr>\n",
              "    <tr>\n",
              "      <th>13946</th>\n",
              "      <td>NaN</td>\n",
              "      <td>0.0</td>\n",
              "    </tr>\n",
              "    <tr>\n",
              "      <th>13947</th>\n",
              "      <td>0.0</td>\n",
              "      <td>0.0</td>\n",
              "    </tr>\n",
              "    <tr>\n",
              "      <th>13948</th>\n",
              "      <td>0.0</td>\n",
              "      <td>3.8</td>\n",
              "    </tr>\n",
              "  </tbody>\n",
              "</table>\n",
              "</div>"
            ],
            "text/plain": [
              "         t  t+3\n",
              "13944  NaN  0.0\n",
              "13945  NaN  0.0\n",
              "13946  NaN  0.0\n",
              "13947  0.0  0.0\n",
              "13948  0.0  3.8"
            ]
          },
          "metadata": {
            "tags": []
          },
          "execution_count": 129
        }
      ]
    },
    {
      "cell_type": "code",
      "metadata": {
        "id": "I1-U-HqkylxV"
      },
      "source": [
        "#removing NaN values \n",
        "XY_rain.reset_index(drop= True, inplace=True)\n",
        "XY_rain.drop([0,1,2] , axis=0 , inplace=True)"
      ],
      "execution_count": null,
      "outputs": []
    },
    {
      "cell_type": "code",
      "metadata": {
        "colab": {
          "base_uri": "https://localhost:8080/",
          "height": 204
        },
        "id": "gPUZ4KNqylxW",
        "outputId": "0e52d760-3196-4cca-b74e-8a5d989c9678"
      },
      "source": [
        "XY_rain.reset_index(drop= True, inplace=True)\n",
        "XY_rain.head()"
      ],
      "execution_count": null,
      "outputs": [
        {
          "output_type": "execute_result",
          "data": {
            "text/html": [
              "<div>\n",
              "<style scoped>\n",
              "    .dataframe tbody tr th:only-of-type {\n",
              "        vertical-align: middle;\n",
              "    }\n",
              "\n",
              "    .dataframe tbody tr th {\n",
              "        vertical-align: top;\n",
              "    }\n",
              "\n",
              "    .dataframe thead th {\n",
              "        text-align: right;\n",
              "    }\n",
              "</style>\n",
              "<table border=\"1\" class=\"dataframe\">\n",
              "  <thead>\n",
              "    <tr style=\"text-align: right;\">\n",
              "      <th></th>\n",
              "      <th>t</th>\n",
              "      <th>t+3</th>\n",
              "    </tr>\n",
              "  </thead>\n",
              "  <tbody>\n",
              "    <tr>\n",
              "      <th>0</th>\n",
              "      <td>0.0</td>\n",
              "      <td>0.0</td>\n",
              "    </tr>\n",
              "    <tr>\n",
              "      <th>1</th>\n",
              "      <td>0.0</td>\n",
              "      <td>3.8</td>\n",
              "    </tr>\n",
              "    <tr>\n",
              "      <th>2</th>\n",
              "      <td>0.0</td>\n",
              "      <td>3.6</td>\n",
              "    </tr>\n",
              "    <tr>\n",
              "      <th>3</th>\n",
              "      <td>0.0</td>\n",
              "      <td>1.8</td>\n",
              "    </tr>\n",
              "    <tr>\n",
              "      <th>4</th>\n",
              "      <td>3.8</td>\n",
              "      <td>0.0</td>\n",
              "    </tr>\n",
              "  </tbody>\n",
              "</table>\n",
              "</div>"
            ],
            "text/plain": [
              "     t  t+3\n",
              "0  0.0  0.0\n",
              "1  0.0  3.8\n",
              "2  0.0  3.6\n",
              "3  0.0  1.8\n",
              "4  3.8  0.0"
            ]
          },
          "metadata": {
            "tags": []
          },
          "execution_count": 131
        }
      ]
    },
    {
      "cell_type": "code",
      "metadata": {
        "id": "SM_m_B7NylxX"
      },
      "source": [
        "predictions  = XY_rain['t'].apply(lambda x : model_persistence(x))"
      ],
      "execution_count": null,
      "outputs": []
    },
    {
      "cell_type": "code",
      "metadata": {
        "colab": {
          "base_uri": "https://localhost:8080/"
        },
        "id": "uzydWWCkylxY",
        "outputId": "d20ea4c6-764b-4e52-a6fc-cea3e2858265"
      },
      "source": [
        "predictions\n",
        "mre_score = max_error (XY_rain['t+3'], predictions)\n",
        "print('Test MRE: %.3f' % mre_score)\n",
        "mae_score = mean_absolute_error (XY_rain['t+3'], predictions)\n",
        "print('Test MAE: %.3f' % mae_score)\n",
        "rmse_score = np.sqrt(mean_squared_error( XY_rain['t+3'], predictions))\n",
        "print('Test RMSE: %.3f' % rmse_score)\n",
        "r2 = r2_score(XY_rain['t+3'], predictions)\n",
        "print('Test R2: %.3f' % r2)\n"
      ],
      "execution_count": null,
      "outputs": [
        {
          "output_type": "stream",
          "text": [
            "Test MRE: 17.200\n",
            "Test MAE: 0.049\n",
            "Test RMSE: 0.422\n",
            "Test R2: -0.553\n"
          ],
          "name": "stdout"
        }
      ]
    },
    {
      "cell_type": "code",
      "metadata": {
        "id": "w4KxazWT0zXN",
        "colab": {
          "base_uri": "https://localhost:8080/"
        },
        "outputId": "18b21d2c-731e-48b2-ad86-1ebe6728c858"
      },
      "source": [
        "predictions\n",
        "mre_score = max_error (XY_rain['t+3'], predictions)\n",
        "print('Test MRE: %.3f' % mre_score)\n",
        "mae_score = mean_absolute_error (XY_rain['t+3'], predictions)\n",
        "print('Test MAE: %.3f' % mae_score)\n",
        "rmse_score = np.sqrt(mean_squared_error( XY_rain['t+3'], predictions))\n",
        "print('Test RMSE: %.3f' % rmse_score)\n",
        "r2 = r2_score(XY_rain['t+3'], predictions)\n",
        "print('Test R2: %.3f' % r2)\n"
      ],
      "execution_count": null,
      "outputs": [
        {
          "output_type": "stream",
          "text": [
            "Test MRE: 9.000\n",
            "Test MAE: 0.042\n",
            "Test RMSE: 0.263\n",
            "Test R2: -0.492\n"
          ],
          "name": "stdout"
        }
      ]
    },
    {
      "cell_type": "code",
      "metadata": {
        "colab": {
          "base_uri": "https://localhost:8080/"
        },
        "id": "JHVYMfms9QpA",
        "outputId": "0491d17e-89ee-452d-f322-e83089e4fa62"
      },
      "source": [
        "# Scores on rain and no rain tuples seperately \n",
        "\n",
        "results  = pd.DataFrame( { 'true' :XY_rain['t+3'] , 'prediction':predictions } )\n",
        "print (\"Scores on rain tupes \\n\")\n",
        "\n",
        "results_true_rain = results[results['true']!=0].true\n",
        "results_prediction_rain = results[results['true']!=0].prediction\n",
        "mre_score = max_error ( results_true_rain,results_prediction_rain )\n",
        "print('Test MRE: %.3f' % mre_score)\n",
        "mae_score = mean_absolute_error (results_true_rain, results_prediction_rain)\n",
        "print('Test MAE: %.3f' % mae_score)\n",
        "rmse_score = np.sqrt(mean_squared_error( results_true_rain, results_prediction_rain))\n",
        "print('Test RMSE: %.3f' % rmse_score)\n",
        "r2 = r2_score(results_true_rain, results_prediction_rain)\n",
        "print('Test R2: %.3f' % r2)\n",
        "\n",
        "\n",
        "print (\"\\n Scores on no-rain tupes \\n\")\n",
        "results_true_no_rain = results[results['true']==0].true\n",
        "results_prediction_no_rain = results[results['true']==0].prediction\n",
        "\n",
        "mre_score = max_error (results_true_no_rain, results_prediction_no_rain)\n",
        "print('Test MRE: %.3f' % mre_score)\n",
        "mae_score = mean_absolute_error (results_true_no_rain, results_prediction_no_rain)\n",
        "print('Test MAE: %.3f' % mae_score)\n",
        "rmse_score = np.sqrt(mean_squared_error( results_true_no_rain, results_prediction_no_rain))\n",
        "print('Test RMSE: %.3f' % rmse_score)\n",
        "r2 = r2_score(results_true_no_rain, results_prediction_no_rain)\n",
        "print('Test R2: %.3f' % r2)\n"
      ],
      "execution_count": null,
      "outputs": [
        {
          "output_type": "stream",
          "text": [
            "Scores on rain tupes \n",
            "\n",
            "Test MRE: 8.200\n",
            "Test MAE: 0.474\n",
            "Test RMSE: 0.842\n",
            "Test R2: -0.438\n",
            "\n",
            " Scores on no-rain tupes \n",
            "\n",
            "Test MRE: 9.000\n",
            "Test MAE: 0.014\n",
            "Test RMSE: 0.169\n",
            "Test R2: 0.000\n"
          ],
          "name": "stdout"
        }
      ]
    },
    {
      "cell_type": "markdown",
      "metadata": {
        "id": "VvNy5wnz00u2"
      },
      "source": [
        "# 60 min *predictions*"
      ]
    },
    {
      "cell_type": "code",
      "metadata": {
        "id": "rTZo1uSo00u3"
      },
      "source": [
        "XY_rain = pd.concat([values.shift(4), values], axis=1)\n",
        "XY_rain.columns = ['t', 't+4']"
      ],
      "execution_count": null,
      "outputs": []
    },
    {
      "cell_type": "code",
      "metadata": {
        "colab": {
          "base_uri": "https://localhost:8080/",
          "height": 204
        },
        "id": "ibBCZXHE00u5",
        "outputId": "ba4c2791-a9e9-4e75-f5db-bbea466c49d6"
      },
      "source": [
        "XY_rain.head(5)"
      ],
      "execution_count": null,
      "outputs": [
        {
          "output_type": "execute_result",
          "data": {
            "text/html": [
              "<div>\n",
              "<style scoped>\n",
              "    .dataframe tbody tr th:only-of-type {\n",
              "        vertical-align: middle;\n",
              "    }\n",
              "\n",
              "    .dataframe tbody tr th {\n",
              "        vertical-align: top;\n",
              "    }\n",
              "\n",
              "    .dataframe thead th {\n",
              "        text-align: right;\n",
              "    }\n",
              "</style>\n",
              "<table border=\"1\" class=\"dataframe\">\n",
              "  <thead>\n",
              "    <tr style=\"text-align: right;\">\n",
              "      <th></th>\n",
              "      <th>t</th>\n",
              "      <th>t+4</th>\n",
              "    </tr>\n",
              "  </thead>\n",
              "  <tbody>\n",
              "    <tr>\n",
              "      <th>13944</th>\n",
              "      <td>NaN</td>\n",
              "      <td>0.0</td>\n",
              "    </tr>\n",
              "    <tr>\n",
              "      <th>13945</th>\n",
              "      <td>NaN</td>\n",
              "      <td>0.0</td>\n",
              "    </tr>\n",
              "    <tr>\n",
              "      <th>13946</th>\n",
              "      <td>NaN</td>\n",
              "      <td>0.0</td>\n",
              "    </tr>\n",
              "    <tr>\n",
              "      <th>13947</th>\n",
              "      <td>NaN</td>\n",
              "      <td>0.0</td>\n",
              "    </tr>\n",
              "    <tr>\n",
              "      <th>13948</th>\n",
              "      <td>0.0</td>\n",
              "      <td>3.8</td>\n",
              "    </tr>\n",
              "  </tbody>\n",
              "</table>\n",
              "</div>"
            ],
            "text/plain": [
              "         t  t+4\n",
              "13944  NaN  0.0\n",
              "13945  NaN  0.0\n",
              "13946  NaN  0.0\n",
              "13947  NaN  0.0\n",
              "13948  0.0  3.8"
            ]
          },
          "metadata": {
            "tags": []
          },
          "execution_count": 141
        }
      ]
    },
    {
      "cell_type": "code",
      "metadata": {
        "id": "nxUpVbu-00u6"
      },
      "source": [
        "#removing NaN values \n",
        "XY_rain.reset_index(drop= True, inplace=True)\n",
        "XY_rain.drop([0,1,2,3] , axis=0 , inplace=True)"
      ],
      "execution_count": null,
      "outputs": []
    },
    {
      "cell_type": "code",
      "metadata": {
        "colab": {
          "base_uri": "https://localhost:8080/",
          "height": 204
        },
        "id": "rbaYdLfB00u8",
        "outputId": "99ac6992-2e72-4b02-b8b2-6007894d7430"
      },
      "source": [
        "XY_rain.reset_index(drop= True, inplace=True)\n",
        "XY_rain.head()"
      ],
      "execution_count": null,
      "outputs": [
        {
          "output_type": "execute_result",
          "data": {
            "text/html": [
              "<div>\n",
              "<style scoped>\n",
              "    .dataframe tbody tr th:only-of-type {\n",
              "        vertical-align: middle;\n",
              "    }\n",
              "\n",
              "    .dataframe tbody tr th {\n",
              "        vertical-align: top;\n",
              "    }\n",
              "\n",
              "    .dataframe thead th {\n",
              "        text-align: right;\n",
              "    }\n",
              "</style>\n",
              "<table border=\"1\" class=\"dataframe\">\n",
              "  <thead>\n",
              "    <tr style=\"text-align: right;\">\n",
              "      <th></th>\n",
              "      <th>t</th>\n",
              "      <th>t+4</th>\n",
              "    </tr>\n",
              "  </thead>\n",
              "  <tbody>\n",
              "    <tr>\n",
              "      <th>0</th>\n",
              "      <td>0.0</td>\n",
              "      <td>3.8</td>\n",
              "    </tr>\n",
              "    <tr>\n",
              "      <th>1</th>\n",
              "      <td>0.0</td>\n",
              "      <td>3.6</td>\n",
              "    </tr>\n",
              "    <tr>\n",
              "      <th>2</th>\n",
              "      <td>0.0</td>\n",
              "      <td>1.8</td>\n",
              "    </tr>\n",
              "    <tr>\n",
              "      <th>3</th>\n",
              "      <td>0.0</td>\n",
              "      <td>0.0</td>\n",
              "    </tr>\n",
              "    <tr>\n",
              "      <th>4</th>\n",
              "      <td>3.8</td>\n",
              "      <td>0.4</td>\n",
              "    </tr>\n",
              "  </tbody>\n",
              "</table>\n",
              "</div>"
            ],
            "text/plain": [
              "     t  t+4\n",
              "0  0.0  3.8\n",
              "1  0.0  3.6\n",
              "2  0.0  1.8\n",
              "3  0.0  0.0\n",
              "4  3.8  0.4"
            ]
          },
          "metadata": {
            "tags": []
          },
          "execution_count": 143
        }
      ]
    },
    {
      "cell_type": "code",
      "metadata": {
        "id": "m-c1TgCz00u-"
      },
      "source": [
        "predictions  = XY_rain['t'].apply(lambda x : model_persistence(x))"
      ],
      "execution_count": null,
      "outputs": []
    },
    {
      "cell_type": "code",
      "metadata": {
        "colab": {
          "base_uri": "https://localhost:8080/"
        },
        "id": "d4RiaLLw00u_",
        "outputId": "bf56df69-c6f6-4bf3-a086-d79e499f9cd7"
      },
      "source": [
        "predictions\n",
        "mre_score = max_error (XY_rain['t+4'], predictions)\n",
        "print('Test MRE: %.3f' % mre_score)\n",
        "mae_score = mean_absolute_error (XY_rain['t+4'], predictions)\n",
        "print('Test MAE: %.3f' % mae_score)\n",
        "rmse_score = np.sqrt(mean_squared_error( XY_rain['t+4'], predictions))\n",
        "print('Test RMSE: %.3f' % rmse_score)\n",
        "r2 = r2_score(XY_rain['t+4'], predictions)\n",
        "print('Test R2: %.3f' % r2)\n"
      ],
      "execution_count": null,
      "outputs": [
        {
          "output_type": "stream",
          "text": [
            "Test MRE: 17.000\n",
            "Test MAE: 0.052\n",
            "Test RMSE: 0.441\n",
            "Test R2: -0.700\n"
          ],
          "name": "stdout"
        }
      ]
    },
    {
      "cell_type": "code",
      "metadata": {
        "id": "BmtSD4vB1Kd3",
        "colab": {
          "base_uri": "https://localhost:8080/"
        },
        "outputId": "9de576e7-c45d-4c55-830c-66679313332b"
      },
      "source": [
        "predictions\n",
        "mre_score = max_error (XY_rain['t+4'], predictions)\n",
        "print('Test MRE: %.3f' % mre_score)\n",
        "mae_score = mean_absolute_error (XY_rain['t+4'], predictions)\n",
        "print('Test MAE: %.3f' % mae_score)\n",
        "rmse_score = np.sqrt(mean_squared_error( XY_rain['t+4'], predictions))\n",
        "print('Test RMSE: %.3f' % rmse_score)\n",
        "r2 = r2_score(XY_rain['t+4'], predictions)\n",
        "print('Test R2: %.3f' % r2)"
      ],
      "execution_count": null,
      "outputs": [
        {
          "output_type": "stream",
          "text": [
            "Test MRE: 9.000\n",
            "Test MAE: 0.043\n",
            "Test RMSE: 0.269\n",
            "Test R2: -0.556\n"
          ],
          "name": "stdout"
        }
      ]
    },
    {
      "cell_type": "code",
      "metadata": {
        "colab": {
          "base_uri": "https://localhost:8080/"
        },
        "id": "SkPrcFH49xKJ",
        "outputId": "2a04f177-b139-4697-84d7-873954de3878"
      },
      "source": [
        "# Scores on rain and no rain tuples seperately \n",
        "\n",
        "results  = pd.DataFrame( { 'true' :XY_rain['t+4'] , 'prediction':predictions } )\n",
        "print (\"Scores on rain tupes \\n\")\n",
        "\n",
        "results_true_rain = results[results['true']!=0].true\n",
        "results_prediction_rain = results[results['true']!=0].prediction\n",
        "mre_score = max_error ( results_true_rain,results_prediction_rain )\n",
        "print('Test MRE: %.3f' % mre_score)\n",
        "mae_score = mean_absolute_error (results_true_rain, results_prediction_rain)\n",
        "print('Test MAE: %.3f' % mae_score)\n",
        "rmse_score = np.sqrt(mean_squared_error( results_true_rain, results_prediction_rain))\n",
        "print('Test RMSE: %.3f' % rmse_score)\n",
        "r2 = r2_score(results_true_rain, results_prediction_rain)\n",
        "print('Test R2: %.3f' % r2)\n",
        "\n",
        "\n",
        "print (\"\\n Scores on no-rain tupes \\n\")\n",
        "results_true_no_rain = results[results['true']==0].true\n",
        "results_prediction_no_rain = results[results['true']==0].prediction\n",
        "\n",
        "mre_score = max_error (results_true_no_rain, results_prediction_no_rain)\n",
        "print('Test MRE: %.3f' % mre_score)\n",
        "mae_score = mean_absolute_error (results_true_no_rain, results_prediction_no_rain)\n",
        "print('Test MAE: %.3f' % mae_score)\n",
        "rmse_score = np.sqrt(mean_squared_error( results_true_no_rain, results_prediction_no_rain))\n",
        "print('Test RMSE: %.3f' % rmse_score)\n",
        "r2 = r2_score(results_true_no_rain, results_prediction_no_rain)\n",
        "print('Test R2: %.3f' % r2)\n"
      ],
      "execution_count": null,
      "outputs": [
        {
          "output_type": "stream",
          "text": [
            "Scores on rain tupes \n",
            "\n",
            "Test MRE: 9.000\n",
            "Test MAE: 0.502\n",
            "Test RMSE: 0.923\n",
            "Test R2: -0.728\n",
            "\n",
            " Scores on no-rain tupes \n",
            "\n",
            "Test MRE: 9.000\n",
            "Test MAE: 0.014\n",
            "Test RMSE: 0.150\n",
            "Test R2: 0.000\n"
          ],
          "name": "stdout"
        }
      ]
    }
  ]
}